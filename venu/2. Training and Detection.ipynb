{
 "cells": [
  {
   "cell_type": "markdown",
   "metadata": {
    "id": "QUANWN3rpfC9"
   },
   "source": [
    "# 0. Setup Paths"
   ]
  },
  {
   "cell_type": "code",
   "execution_count": 1,
   "metadata": {
    "id": "42hJEdo_pfDB"
   },
   "outputs": [],
   "source": [
    "CUSTOM_MODEL_NAME = 'my_ssd_mobnet' \n",
    "PRETRAINED_MODEL_NAME = 'ssd_mobilenet_v2_fpnlite_320x320_coco17_tpu-8'\n",
    "PRETRAINED_MODEL_URL = 'http://download.tensorflow.org/models/object_detection/tf2/20200711/ssd_mobilenet_v2_fpnlite_320x320_coco17_tpu-8.tar.gz'\n",
    "TF_RECORD_SCRIPT_NAME = 'generate_tfrecord.py'\n",
    "LABEL_MAP_NAME = 'label_map.pbtxt'"
   ]
  },
  {
   "cell_type": "code",
   "execution_count": 2,
   "metadata": {
    "id": "146BB11JpfDA"
   },
   "outputs": [],
   "source": [
    "import os"
   ]
  },
  {
   "cell_type": "code",
   "execution_count": 3,
   "metadata": {
    "id": "hbPhYVy_pfDB"
   },
   "outputs": [],
   "source": [
    "paths = {\n",
    "    'WORKSPACE_PATH': os.path.join('Tensorflow', 'workspace'),\n",
    "    'SCRIPTS_PATH': os.path.join('Tensorflow','scripts'),\n",
    "    'APIMODEL_PATH': os.path.join('Tensorflow','models'),\n",
    "    'ANNOTATION_PATH': os.path.join('Tensorflow', 'workspace','annotations'),\n",
    "    'IMAGE_PATH': os.path.join('Tensorflow', 'workspace','images'),\n",
    "    'MODEL_PATH': os.path.join('Tensorflow', 'workspace','models'),\n",
    "    'PRETRAINED_MODEL_PATH': os.path.join('Tensorflow', 'workspace','pre-trained-models'),\n",
    "    'CHECKPOINT_PATH': os.path.join('Tensorflow', 'workspace','models',CUSTOM_MODEL_NAME), \n",
    "    'OUTPUT_PATH': os.path.join('Tensorflow', 'workspace','models',CUSTOM_MODEL_NAME, 'export'), \n",
    "    'TFJS_PATH':os.path.join('Tensorflow', 'workspace','models',CUSTOM_MODEL_NAME, 'tfjsexport'), \n",
    "    'TFLITE_PATH':os.path.join('Tensorflow', 'workspace','models',CUSTOM_MODEL_NAME, 'tfliteexport'), \n",
    "    'PROTOC_PATH':os.path.join('Tensorflow','protoc')\n",
    " }"
   ]
  },
  {
   "cell_type": "code",
   "execution_count": 4,
   "metadata": {
    "id": "LwhWZMI0pfDC"
   },
   "outputs": [],
   "source": [
    "files = {\n",
    "    'PIPELINE_CONFIG':os.path.join('Tensorflow', 'workspace','models', CUSTOM_MODEL_NAME, 'pipeline.config'),\n",
    "    'TF_RECORD_SCRIPT': os.path.join(paths['SCRIPTS_PATH'], TF_RECORD_SCRIPT_NAME), \n",
    "    'LABELMAP': os.path.join(paths['ANNOTATION_PATH'], LABEL_MAP_NAME)\n",
    "}"
   ]
  },
  {
   "cell_type": "code",
   "execution_count": 5,
   "metadata": {
    "id": "HR-TfDGrpfDC"
   },
   "outputs": [],
   "source": [
    "for path in paths.values():\n",
    "    if not os.path.exists(path):\n",
    "        if os.name == 'posix':\n",
    "            !mkdir -p {path}\n",
    "        if os.name == 'nt':\n",
    "            !mkdir {path}"
   ]
  },
  {
   "cell_type": "markdown",
   "metadata": {
    "id": "OLU-rs_ipfDE"
   },
   "source": [
    "# 1. Download TF Models Pretrained Models from Tensorflow Model Zoo and Install TFOD"
   ]
  },
  {
   "cell_type": "code",
   "execution_count": 6,
   "metadata": {},
   "outputs": [],
   "source": [
    "# https://www.tensorflow.org/install/source_windows"
   ]
  },
  {
   "cell_type": "code",
   "execution_count": 7,
   "metadata": {
    "id": "K-Cmz2edpfDE",
    "scrolled": true
   },
   "outputs": [],
   "source": [
    "if os.name=='nt':\n",
    "    !pip install wget\n",
    "    import wget"
   ]
  },
  {
   "cell_type": "code",
   "execution_count": 8,
   "metadata": {
    "id": "iA1DIq5OpfDE"
   },
   "outputs": [
    {
     "name": "stdout",
     "output_type": "stream",
     "text": [
      "Cloning into 'Tensorflow/models'...\n"
     ]
    },
    {
     "name": "stdout",
     "output_type": "stream",
     "text": [
      "remote: Enumerating objects: 96720, done.\u001b[K\n",
      "error: RPC failed; curl 18 HTTP/2 stream 5 was reset23.00 KiB/s\n",
      "error: 18362 bytes of body are still expected\n",
      "fetch-pack: unexpected disconnect while reading sideband packet\n",
      "fatal: early EOF\n",
      "fatal: fetch-pack: invalid index-pack output\n"
     ]
    }
   ],
   "source": [
    "if not os.path.exists(os.path.join(paths['APIMODEL_PATH'], 'research', 'object_detection')):\n",
    "    !git clone https://github.com/tensorflow/models {paths['APIMODEL_PATH']}"
   ]
  },
  {
   "cell_type": "code",
   "execution_count": 9,
   "metadata": {
    "id": "rJjMHbnDs3Tv"
   },
   "outputs": [
    {
     "name": "stdout",
     "output_type": "stream",
     "text": [
      "zsh:1: command not found: apt-get\n"
     ]
    },
    {
     "name": "stdout",
     "output_type": "stream",
     "text": [
      "zsh:cd:1: no such file or directory: Tensorflow/models/research\n"
     ]
    }
   ],
   "source": [
    "# Install Tensorflow Object Detection \n",
    "if os.name=='posix':  \n",
    "    !apt-get install protobuf-compiler\n",
    "    !cd Tensorflow/models/research && protoc object_detection/protos/*.proto --python_out=. && cp object_detection/packages/tf2/setup.py . && python -m pip install . \n",
    "    \n",
    "if os.name=='nt':\n",
    "    url=\"https://github.com/protocolbuffers/protobuf/releases/download/v3.15.6/protoc-3.15.6-win64.zip\"\n",
    "    wget.download(url)\n",
    "    !move protoc-3.15.6-win64.zip {paths['PROTOC_PATH']}\n",
    "    !cd {paths['PROTOC_PATH']} && tar -xf protoc-3.15.6-win64.zip\n",
    "    os.environ['PATH'] += os.pathsep + os.path.abspath(os.path.join(paths['PROTOC_PATH'], 'bin'))   \n",
    "    !cd Tensorflow/models/research && protoc object_detection/protos/*.proto --python_out=. && copy object_detection\\\\packages\\\\tf2\\\\setup.py setup.py && python setup.py build && python setup.py install\n",
    "    !cd Tensorflow/models/research/slim && pip install -e . "
   ]
  },
  {
   "cell_type": "code",
   "execution_count": 10,
   "metadata": {
    "scrolled": true
   },
   "outputs": [
    {
     "name": "stdout",
     "output_type": "stream",
     "text": [
      "zsh:1: command not found: python\n"
     ]
    }
   ],
   "source": [
    "VERIFICATION_SCRIPT = os.path.join(paths['APIMODEL_PATH'], 'research', 'object_detection', 'builders', 'model_builder_tf2_test.py')\n",
    "# Verify Installation\n",
    "!python {VERIFICATION_SCRIPT}"
   ]
  },
  {
   "cell_type": "code",
   "execution_count": 11,
   "metadata": {
    "scrolled": true
   },
   "outputs": [
    {
     "name": "stdout",
     "output_type": "stream",
     "text": [
      "Collecting protobuf\n",
      "  Obtaining dependency information for protobuf from https://files.pythonhosted.org/packages/7d/98/282bfe05071c9e1e7e4af692bc937e12e7adacf3b297e0274579de01c9d7/protobuf-5.26.0-cp37-abi3-macosx_10_9_universal2.whl.metadata\n",
      "  Using cached protobuf-5.26.0-cp37-abi3-macosx_10_9_universal2.whl.metadata (592 bytes)\n",
      "Using cached protobuf-5.26.0-cp37-abi3-macosx_10_9_universal2.whl (404 kB)\n",
      "Installing collected packages: protobuf\n",
      "Successfully installed protobuf-5.26.0\n",
      "\n",
      "\u001b[1m[\u001b[0m\u001b[34;49mnotice\u001b[0m\u001b[1;39;49m]\u001b[0m\u001b[39;49m A new release of pip is available: \u001b[0m\u001b[31;49m23.2.1\u001b[0m\u001b[39;49m -> \u001b[0m\u001b[32;49m24.0\u001b[0m\n",
      "\u001b[1m[\u001b[0m\u001b[34;49mnotice\u001b[0m\u001b[1;39;49m]\u001b[0m\u001b[39;49m To update, run: \u001b[0m\u001b[32;49mpip install --upgrade pip\u001b[0m\n"
     ]
    }
   ],
   "source": [
    "!pip install protobuf"
   ]
  },
  {
   "cell_type": "code",
   "execution_count": 12,
   "metadata": {},
   "outputs": [
    {
     "name": "stdout",
     "output_type": "stream",
     "text": [
      "\u001b[31mERROR: Could not find a version that satisfies the requirement tensorflow==2.10.0 (from versions: 2.13.0rc0, 2.13.0rc1, 2.13.0rc2, 2.13.0, 2.13.1, 2.14.0rc0, 2.14.0rc1, 2.14.0, 2.14.1, 2.15.0rc0, 2.15.0rc1, 2.15.0, 2.15.1, 2.16.0rc0, 2.16.1)\u001b[0m\u001b[31m\n",
      "\u001b[0m\u001b[31mERROR: No matching distribution found for tensorflow==2.10.0\u001b[0m\u001b[31m\n",
      "\u001b[0m\n",
      "\u001b[1m[\u001b[0m\u001b[34;49mnotice\u001b[0m\u001b[1;39;49m]\u001b[0m\u001b[39;49m A new release of pip is available: \u001b[0m\u001b[31;49m23.2.1\u001b[0m\u001b[39;49m -> \u001b[0m\u001b[32;49m24.0\u001b[0m\n",
      "\u001b[1m[\u001b[0m\u001b[34;49mnotice\u001b[0m\u001b[1;39;49m]\u001b[0m\u001b[39;49m To update, run: \u001b[0m\u001b[32;49mpip install --upgrade pip\u001b[0m\n"
     ]
    }
   ],
   "source": [
    "!pip install tensorflow==2.10.0 tensorflow-gpu==2.10.0"
   ]
  },
  {
   "cell_type": "code",
   "execution_count": 13,
   "metadata": {},
   "outputs": [
    {
     "name": "stdout",
     "output_type": "stream",
     "text": [
      "Found existing installation: protobuf 5.26.0\n",
      "Uninstalling protobuf-5.26.0:\n",
      "  Successfully uninstalled protobuf-5.26.0\n",
      "\u001b[33mWARNING: Skipping matplotlib as it is not installed.\u001b[0m\u001b[33m\n",
      "\u001b[0mCollecting protobuf\n",
      "  Obtaining dependency information for protobuf from https://files.pythonhosted.org/packages/7d/98/282bfe05071c9e1e7e4af692bc937e12e7adacf3b297e0274579de01c9d7/protobuf-5.26.0-cp37-abi3-macosx_10_9_universal2.whl.metadata\n",
      "  Using cached protobuf-5.26.0-cp37-abi3-macosx_10_9_universal2.whl.metadata (592 bytes)\n",
      "Collecting matplotlib==3.2\n",
      "  Using cached matplotlib-3.2.0.tar.gz (40.5 MB)\n",
      "  Preparing metadata (setup.py) ... \u001b[?25ldone\n",
      "\u001b[?25hCollecting cycler>=0.10 (from matplotlib==3.2)\n",
      "  Obtaining dependency information for cycler>=0.10 from https://files.pythonhosted.org/packages/e7/05/c19819d5e3d95294a6f5947fb9b9629efb316b96de511b418c53d245aae6/cycler-0.12.1-py3-none-any.whl.metadata\n",
      "  Using cached cycler-0.12.1-py3-none-any.whl.metadata (3.8 kB)\n",
      "Collecting kiwisolver>=1.0.1 (from matplotlib==3.2)\n",
      "  Obtaining dependency information for kiwisolver>=1.0.1 from https://files.pythonhosted.org/packages/4a/fe/23d7fa78f7c66086d196406beb1fb2eaf629dd7adc01c3453033303d17fa/kiwisolver-1.4.5-cp311-cp311-macosx_11_0_arm64.whl.metadata\n",
      "  Using cached kiwisolver-1.4.5-cp311-cp311-macosx_11_0_arm64.whl.metadata (6.4 kB)\n",
      "Requirement already satisfied: numpy>=1.11 in /Library/Frameworks/Python.framework/Versions/3.11/lib/python3.11/site-packages (from matplotlib==3.2) (1.23.5)\n",
      "Collecting pyparsing!=2.0.4,!=2.1.2,!=2.1.6,>=2.0.1 (from matplotlib==3.2)\n",
      "  Obtaining dependency information for pyparsing!=2.0.4,!=2.1.2,!=2.1.6,>=2.0.1 from https://files.pythonhosted.org/packages/9d/ea/6d76df31432a0e6fdf81681a895f009a4bb47b3c39036db3e1b528191d52/pyparsing-3.1.2-py3-none-any.whl.metadata\n",
      "  Using cached pyparsing-3.1.2-py3-none-any.whl.metadata (5.1 kB)\n",
      "Requirement already satisfied: python-dateutil>=2.1 in /Users/rajaguru/Library/Python/3.11/lib/python/site-packages (from matplotlib==3.2) (2.9.0.post0)\n",
      "Requirement already satisfied: six>=1.5 in /Users/rajaguru/Library/Python/3.11/lib/python/site-packages (from python-dateutil>=2.1->matplotlib==3.2) (1.16.0)\n",
      "Using cached protobuf-5.26.0-cp37-abi3-macosx_10_9_universal2.whl (404 kB)\n",
      "Using cached cycler-0.12.1-py3-none-any.whl (8.3 kB)\n",
      "Using cached kiwisolver-1.4.5-cp311-cp311-macosx_11_0_arm64.whl (66 kB)\n",
      "Using cached pyparsing-3.1.2-py3-none-any.whl (103 kB)\n",
      "Building wheels for collected packages: matplotlib\n",
      "  Building wheel for matplotlib (setup.py) ... \u001b[?25lerror\n",
      "  \u001b[1;31merror\u001b[0m: \u001b[1msubprocess-exited-with-error\u001b[0m\n",
      "  \n",
      "  \u001b[31m×\u001b[0m \u001b[32mpython setup.py bdist_wheel\u001b[0m did not run successfully.\n",
      "  \u001b[31m│\u001b[0m exit code: \u001b[1;36m1\u001b[0m\n",
      "  \u001b[31m╰─>\u001b[0m \u001b[31m[586 lines of output]\u001b[0m\n",
      "  \u001b[31m   \u001b[0m \n",
      "  \u001b[31m   \u001b[0m Edit setup.cfg to change the build options; suppress output with --quiet.\n",
      "  \u001b[31m   \u001b[0m \n",
      "  \u001b[31m   \u001b[0m BUILDING MATPLOTLIB\n",
      "  \u001b[31m   \u001b[0m   matplotlib: yes [3.2.0]\n",
      "  \u001b[31m   \u001b[0m       python: yes [3.11.1 (v3.11.1:a7a450f84a, Dec  6 2022, 15:24:06) [Clang\n",
      "  \u001b[31m   \u001b[0m                   13.0.0 (clang-1300.0.29.30)]]\n",
      "  \u001b[31m   \u001b[0m     platform: yes [darwin]\n",
      "  \u001b[31m   \u001b[0m  sample_data: yes [installing]\n",
      "  \u001b[31m   \u001b[0m        tests: no  [skipping due to configuration]\n",
      "  \u001b[31m   \u001b[0m          agg: yes [installing]\n",
      "  \u001b[31m   \u001b[0m        tkagg: yes [installing; run-time loading from Python Tcl/Tk]\n",
      "  \u001b[31m   \u001b[0m       macosx: yes [installing]\n",
      "  \u001b[31m   \u001b[0m \n",
      "  \u001b[31m   \u001b[0m /Library/Frameworks/Python.framework/Versions/3.11/lib/python3.11/site-packages/setuptools/dist.py:286: SetuptoolsDeprecationWarning: The namespace_packages parameter is deprecated, consider using implicit namespaces instead (PEP 420).\n",
      "  \u001b[31m   \u001b[0m   warnings.warn(msg, SetuptoolsDeprecationWarning)\n",
      "  \u001b[31m   \u001b[0m running bdist_wheel\n",
      "  \u001b[31m   \u001b[0m running build\n",
      "  \u001b[31m   \u001b[0m running build_py\n",
      "  \u001b[31m   \u001b[0m creating build\n",
      "  \u001b[31m   \u001b[0m creating build/lib.macosx-10.9-universal2-cpython-311\n",
      "  \u001b[31m   \u001b[0m copying lib/pylab.py -> build/lib.macosx-10.9-universal2-cpython-311\n",
      "  \u001b[31m   \u001b[0m creating build/lib.macosx-10.9-universal2-cpython-311/mpl_toolkits\n",
      "  \u001b[31m   \u001b[0m copying lib/mpl_toolkits/__init__.py -> build/lib.macosx-10.9-universal2-cpython-311/mpl_toolkits\n",
      "  \u001b[31m   \u001b[0m creating build/lib.macosx-10.9-universal2-cpython-311/matplotlib\n",
      "  \u001b[31m   \u001b[0m copying lib/matplotlib/hatch.py -> build/lib.macosx-10.9-universal2-cpython-311/matplotlib\n",
      "  \u001b[31m   \u001b[0m copying lib/matplotlib/transforms.py -> build/lib.macosx-10.9-universal2-cpython-311/matplotlib\n",
      "  \u001b[31m   \u001b[0m copying lib/matplotlib/_text_layout.py -> build/lib.macosx-10.9-universal2-cpython-311/matplotlib\n",
      "  \u001b[31m   \u001b[0m copying lib/matplotlib/legend_handler.py -> build/lib.macosx-10.9-universal2-cpython-311/matplotlib\n",
      "  \u001b[31m   \u001b[0m copying lib/matplotlib/axis.py -> build/lib.macosx-10.9-universal2-cpython-311/matplotlib\n",
      "  \u001b[31m   \u001b[0m copying lib/matplotlib/textpath.py -> build/lib.macosx-10.9-universal2-cpython-311/matplotlib\n",
      "  \u001b[31m   \u001b[0m copying lib/matplotlib/quiver.py -> build/lib.macosx-10.9-universal2-cpython-311/matplotlib\n",
      "  \u001b[31m   \u001b[0m copying lib/matplotlib/backend_bases.py -> build/lib.macosx-10.9-universal2-cpython-311/matplotlib\n",
      "  \u001b[31m   \u001b[0m copying lib/matplotlib/units.py -> build/lib.macosx-10.9-universal2-cpython-311/matplotlib\n",
      "  \u001b[31m   \u001b[0m copying lib/matplotlib/pylab.py -> build/lib.macosx-10.9-universal2-cpython-311/matplotlib\n",
      "  \u001b[31m   \u001b[0m copying lib/matplotlib/colorbar.py -> build/lib.macosx-10.9-universal2-cpython-311/matplotlib\n",
      "  \u001b[31m   \u001b[0m copying lib/matplotlib/_version.py -> build/lib.macosx-10.9-universal2-cpython-311/matplotlib\n",
      "  \u001b[31m   \u001b[0m copying lib/matplotlib/_cm.py -> build/lib.macosx-10.9-universal2-cpython-311/matplotlib\n",
      "  \u001b[31m   \u001b[0m copying lib/matplotlib/backend_managers.py -> build/lib.macosx-10.9-universal2-cpython-311/matplotlib\n",
      "  \u001b[31m   \u001b[0m copying lib/matplotlib/mathtext.py -> build/lib.macosx-10.9-universal2-cpython-311/matplotlib\n",
      "  \u001b[31m   \u001b[0m copying lib/matplotlib/font_manager.py -> build/lib.macosx-10.9-universal2-cpython-311/matplotlib\n",
      "  \u001b[31m   \u001b[0m copying lib/matplotlib/bezier.py -> build/lib.macosx-10.9-universal2-cpython-311/matplotlib\n",
      "  \u001b[31m   \u001b[0m copying lib/matplotlib/cm.py -> build/lib.macosx-10.9-universal2-cpython-311/matplotlib\n",
      "  \u001b[31m   \u001b[0m copying lib/matplotlib/legend.py -> build/lib.macosx-10.9-universal2-cpython-311/matplotlib\n",
      "  \u001b[31m   \u001b[0m copying lib/matplotlib/figure.py -> build/lib.macosx-10.9-universal2-cpython-311/matplotlib\n",
      "  \u001b[31m   \u001b[0m copying lib/matplotlib/__init__.py -> build/lib.macosx-10.9-universal2-cpython-311/matplotlib\n",
      "  \u001b[31m   \u001b[0m copying lib/matplotlib/offsetbox.py -> build/lib.macosx-10.9-universal2-cpython-311/matplotlib\n",
      "  \u001b[31m   \u001b[0m copying lib/matplotlib/tight_bbox.py -> build/lib.macosx-10.9-universal2-cpython-311/matplotlib\n",
      "  \u001b[31m   \u001b[0m copying lib/matplotlib/container.py -> build/lib.macosx-10.9-universal2-cpython-311/matplotlib\n",
      "  \u001b[31m   \u001b[0m copying lib/matplotlib/gridspec.py -> build/lib.macosx-10.9-universal2-cpython-311/matplotlib\n",
      "  \u001b[31m   \u001b[0m copying lib/matplotlib/lines.py -> build/lib.macosx-10.9-universal2-cpython-311/matplotlib\n",
      "  \u001b[31m   \u001b[0m copying lib/matplotlib/widgets.py -> build/lib.macosx-10.9-universal2-cpython-311/matplotlib\n",
      "  \u001b[31m   \u001b[0m copying lib/matplotlib/blocking_input.py -> build/lib.macosx-10.9-universal2-cpython-311/matplotlib\n",
      "  \u001b[31m   \u001b[0m copying lib/matplotlib/dviread.py -> build/lib.macosx-10.9-universal2-cpython-311/matplotlib\n",
      "  \u001b[31m   \u001b[0m copying lib/matplotlib/animation.py -> build/lib.macosx-10.9-universal2-cpython-311/matplotlib\n",
      "  \u001b[31m   \u001b[0m copying lib/matplotlib/type1font.py -> build/lib.macosx-10.9-universal2-cpython-311/matplotlib\n",
      "  \u001b[31m   \u001b[0m copying lib/matplotlib/_mathtext_data.py -> build/lib.macosx-10.9-universal2-cpython-311/matplotlib\n",
      "  \u001b[31m   \u001b[0m copying lib/matplotlib/artist.py -> build/lib.macosx-10.9-universal2-cpython-311/matplotlib\n",
      "  \u001b[31m   \u001b[0m copying lib/matplotlib/backend_tools.py -> build/lib.macosx-10.9-universal2-cpython-311/matplotlib\n",
      "  \u001b[31m   \u001b[0m copying lib/matplotlib/docstring.py -> build/lib.macosx-10.9-universal2-cpython-311/matplotlib\n",
      "  \u001b[31m   \u001b[0m copying lib/matplotlib/_color_data.py -> build/lib.macosx-10.9-universal2-cpython-311/matplotlib\n",
      "  \u001b[31m   \u001b[0m copying lib/matplotlib/texmanager.py -> build/lib.macosx-10.9-universal2-cpython-311/matplotlib\n",
      "  \u001b[31m   \u001b[0m copying lib/matplotlib/afm.py -> build/lib.macosx-10.9-universal2-cpython-311/matplotlib\n",
      "  \u001b[31m   \u001b[0m copying lib/matplotlib/patches.py -> build/lib.macosx-10.9-universal2-cpython-311/matplotlib\n",
      "  \u001b[31m   \u001b[0m copying lib/matplotlib/stackplot.py -> build/lib.macosx-10.9-universal2-cpython-311/matplotlib\n",
      "  \u001b[31m   \u001b[0m copying lib/matplotlib/collections.py -> build/lib.macosx-10.9-universal2-cpython-311/matplotlib\n",
      "  \u001b[31m   \u001b[0m copying lib/matplotlib/spines.py -> build/lib.macosx-10.9-universal2-cpython-311/matplotlib\n",
      "  \u001b[31m   \u001b[0m copying lib/matplotlib/text.py -> build/lib.macosx-10.9-universal2-cpython-311/matplotlib\n",
      "  \u001b[31m   \u001b[0m copying lib/matplotlib/markers.py -> build/lib.macosx-10.9-universal2-cpython-311/matplotlib\n",
      "  \u001b[31m   \u001b[0m copying lib/matplotlib/mlab.py -> build/lib.macosx-10.9-universal2-cpython-311/matplotlib\n",
      "  \u001b[31m   \u001b[0m copying lib/matplotlib/fontconfig_pattern.py -> build/lib.macosx-10.9-universal2-cpython-311/matplotlib\n",
      "  \u001b[31m   \u001b[0m copying lib/matplotlib/_pylab_helpers.py -> build/lib.macosx-10.9-universal2-cpython-311/matplotlib\n",
      "  \u001b[31m   \u001b[0m copying lib/matplotlib/tight_layout.py -> build/lib.macosx-10.9-universal2-cpython-311/matplotlib\n",
      "  \u001b[31m   \u001b[0m copying lib/matplotlib/_cm_listed.py -> build/lib.macosx-10.9-universal2-cpython-311/matplotlib\n",
      "  \u001b[31m   \u001b[0m copying lib/matplotlib/dates.py -> build/lib.macosx-10.9-universal2-cpython-311/matplotlib\n",
      "  \u001b[31m   \u001b[0m copying lib/matplotlib/table.py -> build/lib.macosx-10.9-universal2-cpython-311/matplotlib\n",
      "  \u001b[31m   \u001b[0m copying lib/matplotlib/_animation_data.py -> build/lib.macosx-10.9-universal2-cpython-311/matplotlib\n",
      "  \u001b[31m   \u001b[0m copying lib/matplotlib/pyplot.py -> build/lib.macosx-10.9-universal2-cpython-311/matplotlib\n",
      "  \u001b[31m   \u001b[0m copying lib/matplotlib/rcsetup.py -> build/lib.macosx-10.9-universal2-cpython-311/matplotlib\n",
      "  \u001b[31m   \u001b[0m copying lib/matplotlib/ticker.py -> build/lib.macosx-10.9-universal2-cpython-311/matplotlib\n",
      "  \u001b[31m   \u001b[0m copying lib/matplotlib/path.py -> build/lib.macosx-10.9-universal2-cpython-311/matplotlib\n",
      "  \u001b[31m   \u001b[0m copying lib/matplotlib/contour.py -> build/lib.macosx-10.9-universal2-cpython-311/matplotlib\n",
      "  \u001b[31m   \u001b[0m copying lib/matplotlib/_layoutbox.py -> build/lib.macosx-10.9-universal2-cpython-311/matplotlib\n",
      "  \u001b[31m   \u001b[0m copying lib/matplotlib/image.py -> build/lib.macosx-10.9-universal2-cpython-311/matplotlib\n",
      "  \u001b[31m   \u001b[0m copying lib/matplotlib/scale.py -> build/lib.macosx-10.9-universal2-cpython-311/matplotlib\n",
      "  \u001b[31m   \u001b[0m copying lib/matplotlib/category.py -> build/lib.macosx-10.9-universal2-cpython-311/matplotlib\n",
      "  \u001b[31m   \u001b[0m copying lib/matplotlib/_constrained_layout.py -> build/lib.macosx-10.9-universal2-cpython-311/matplotlib\n",
      "  \u001b[31m   \u001b[0m copying lib/matplotlib/sankey.py -> build/lib.macosx-10.9-universal2-cpython-311/matplotlib\n",
      "  \u001b[31m   \u001b[0m copying lib/matplotlib/patheffects.py -> build/lib.macosx-10.9-universal2-cpython-311/matplotlib\n",
      "  \u001b[31m   \u001b[0m copying lib/matplotlib/streamplot.py -> build/lib.macosx-10.9-universal2-cpython-311/matplotlib\n",
      "  \u001b[31m   \u001b[0m copying lib/matplotlib/colors.py -> build/lib.macosx-10.9-universal2-cpython-311/matplotlib\n",
      "  \u001b[31m   \u001b[0m creating build/lib.macosx-10.9-universal2-cpython-311/mpl_toolkits/axes_grid1\n",
      "  \u001b[31m   \u001b[0m copying lib/mpl_toolkits/axes_grid1/inset_locator.py -> build/lib.macosx-10.9-universal2-cpython-311/mpl_toolkits/axes_grid1\n",
      "  \u001b[31m   \u001b[0m copying lib/mpl_toolkits/axes_grid1/axes_grid.py -> build/lib.macosx-10.9-universal2-cpython-311/mpl_toolkits/axes_grid1\n",
      "  \u001b[31m   \u001b[0m copying lib/mpl_toolkits/axes_grid1/parasite_axes.py -> build/lib.macosx-10.9-universal2-cpython-311/mpl_toolkits/axes_grid1\n",
      "  \u001b[31m   \u001b[0m copying lib/mpl_toolkits/axes_grid1/colorbar.py -> build/lib.macosx-10.9-universal2-cpython-311/mpl_toolkits/axes_grid1\n",
      "  \u001b[31m   \u001b[0m copying lib/mpl_toolkits/axes_grid1/anchored_artists.py -> build/lib.macosx-10.9-universal2-cpython-311/mpl_toolkits/axes_grid1\n",
      "  \u001b[31m   \u001b[0m copying lib/mpl_toolkits/axes_grid1/__init__.py -> build/lib.macosx-10.9-universal2-cpython-311/mpl_toolkits/axes_grid1\n",
      "  \u001b[31m   \u001b[0m copying lib/mpl_toolkits/axes_grid1/axes_size.py -> build/lib.macosx-10.9-universal2-cpython-311/mpl_toolkits/axes_grid1\n",
      "  \u001b[31m   \u001b[0m copying lib/mpl_toolkits/axes_grid1/mpl_axes.py -> build/lib.macosx-10.9-universal2-cpython-311/mpl_toolkits/axes_grid1\n",
      "  \u001b[31m   \u001b[0m copying lib/mpl_toolkits/axes_grid1/axes_rgb.py -> build/lib.macosx-10.9-universal2-cpython-311/mpl_toolkits/axes_grid1\n",
      "  \u001b[31m   \u001b[0m copying lib/mpl_toolkits/axes_grid1/axes_divider.py -> build/lib.macosx-10.9-universal2-cpython-311/mpl_toolkits/axes_grid1\n",
      "  \u001b[31m   \u001b[0m creating build/lib.macosx-10.9-universal2-cpython-311/mpl_toolkits/axes_grid\n",
      "  \u001b[31m   \u001b[0m copying lib/mpl_toolkits/axes_grid/inset_locator.py -> build/lib.macosx-10.9-universal2-cpython-311/mpl_toolkits/axes_grid\n",
      "  \u001b[31m   \u001b[0m copying lib/mpl_toolkits/axes_grid/axislines.py -> build/lib.macosx-10.9-universal2-cpython-311/mpl_toolkits/axes_grid\n",
      "  \u001b[31m   \u001b[0m copying lib/mpl_toolkits/axes_grid/axes_grid.py -> build/lib.macosx-10.9-universal2-cpython-311/mpl_toolkits/axes_grid\n",
      "  \u001b[31m   \u001b[0m copying lib/mpl_toolkits/axes_grid/grid_finder.py -> build/lib.macosx-10.9-universal2-cpython-311/mpl_toolkits/axes_grid\n",
      "  \u001b[31m   \u001b[0m copying lib/mpl_toolkits/axes_grid/parasite_axes.py -> build/lib.macosx-10.9-universal2-cpython-311/mpl_toolkits/axes_grid\n",
      "  \u001b[31m   \u001b[0m copying lib/mpl_toolkits/axes_grid/colorbar.py -> build/lib.macosx-10.9-universal2-cpython-311/mpl_toolkits/axes_grid\n",
      "  \u001b[31m   \u001b[0m copying lib/mpl_toolkits/axes_grid/anchored_artists.py -> build/lib.macosx-10.9-universal2-cpython-311/mpl_toolkits/axes_grid\n",
      "  \u001b[31m   \u001b[0m copying lib/mpl_toolkits/axes_grid/axis_artist.py -> build/lib.macosx-10.9-universal2-cpython-311/mpl_toolkits/axes_grid\n",
      "  \u001b[31m   \u001b[0m copying lib/mpl_toolkits/axes_grid/axisline_style.py -> build/lib.macosx-10.9-universal2-cpython-311/mpl_toolkits/axes_grid\n",
      "  \u001b[31m   \u001b[0m copying lib/mpl_toolkits/axes_grid/__init__.py -> build/lib.macosx-10.9-universal2-cpython-311/mpl_toolkits/axes_grid\n",
      "  \u001b[31m   \u001b[0m copying lib/mpl_toolkits/axes_grid/axes_size.py -> build/lib.macosx-10.9-universal2-cpython-311/mpl_toolkits/axes_grid\n",
      "  \u001b[31m   \u001b[0m copying lib/mpl_toolkits/axes_grid/angle_helper.py -> build/lib.macosx-10.9-universal2-cpython-311/mpl_toolkits/axes_grid\n",
      "  \u001b[31m   \u001b[0m copying lib/mpl_toolkits/axes_grid/grid_helper_curvelinear.py -> build/lib.macosx-10.9-universal2-cpython-311/mpl_toolkits/axes_grid\n",
      "  \u001b[31m   \u001b[0m copying lib/mpl_toolkits/axes_grid/clip_path.py -> build/lib.macosx-10.9-universal2-cpython-311/mpl_toolkits/axes_grid\n",
      "  \u001b[31m   \u001b[0m copying lib/mpl_toolkits/axes_grid/floating_axes.py -> build/lib.macosx-10.9-universal2-cpython-311/mpl_toolkits/axes_grid\n",
      "  \u001b[31m   \u001b[0m copying lib/mpl_toolkits/axes_grid/axes_rgb.py -> build/lib.macosx-10.9-universal2-cpython-311/mpl_toolkits/axes_grid\n",
      "  \u001b[31m   \u001b[0m copying lib/mpl_toolkits/axes_grid/axes_divider.py -> build/lib.macosx-10.9-universal2-cpython-311/mpl_toolkits/axes_grid\n",
      "  \u001b[31m   \u001b[0m creating build/lib.macosx-10.9-universal2-cpython-311/mpl_toolkits/tests\n",
      "  \u001b[31m   \u001b[0m copying lib/mpl_toolkits/tests/test_axisartist_axislines.py -> build/lib.macosx-10.9-universal2-cpython-311/mpl_toolkits/tests\n",
      "  \u001b[31m   \u001b[0m copying lib/mpl_toolkits/tests/conftest.py -> build/lib.macosx-10.9-universal2-cpython-311/mpl_toolkits/tests\n",
      "  \u001b[31m   \u001b[0m copying lib/mpl_toolkits/tests/test_axisartist_grid_finder.py -> build/lib.macosx-10.9-universal2-cpython-311/mpl_toolkits/tests\n",
      "  \u001b[31m   \u001b[0m copying lib/mpl_toolkits/tests/test_axisartist_floating_axes.py -> build/lib.macosx-10.9-universal2-cpython-311/mpl_toolkits/tests\n",
      "  \u001b[31m   \u001b[0m copying lib/mpl_toolkits/tests/__init__.py -> build/lib.macosx-10.9-universal2-cpython-311/mpl_toolkits/tests\n",
      "  \u001b[31m   \u001b[0m copying lib/mpl_toolkits/tests/test_axisartist_axis_artist.py -> build/lib.macosx-10.9-universal2-cpython-311/mpl_toolkits/tests\n",
      "  \u001b[31m   \u001b[0m copying lib/mpl_toolkits/tests/test_axisartist_angle_helper.py -> build/lib.macosx-10.9-universal2-cpython-311/mpl_toolkits/tests\n",
      "  \u001b[31m   \u001b[0m copying lib/mpl_toolkits/tests/test_axes_grid.py -> build/lib.macosx-10.9-universal2-cpython-311/mpl_toolkits/tests\n",
      "  \u001b[31m   \u001b[0m copying lib/mpl_toolkits/tests/test_axisartist_clip_path.py -> build/lib.macosx-10.9-universal2-cpython-311/mpl_toolkits/tests\n",
      "  \u001b[31m   \u001b[0m copying lib/mpl_toolkits/tests/test_mplot3d.py -> build/lib.macosx-10.9-universal2-cpython-311/mpl_toolkits/tests\n",
      "  \u001b[31m   \u001b[0m copying lib/mpl_toolkits/tests/test_axisartist_grid_helper_curvelinear.py -> build/lib.macosx-10.9-universal2-cpython-311/mpl_toolkits/tests\n",
      "  \u001b[31m   \u001b[0m copying lib/mpl_toolkits/tests/test_axes_grid1.py -> build/lib.macosx-10.9-universal2-cpython-311/mpl_toolkits/tests\n",
      "  \u001b[31m   \u001b[0m creating build/lib.macosx-10.9-universal2-cpython-311/mpl_toolkits/mplot3d\n",
      "  \u001b[31m   \u001b[0m copying lib/mpl_toolkits/mplot3d/proj3d.py -> build/lib.macosx-10.9-universal2-cpython-311/mpl_toolkits/mplot3d\n",
      "  \u001b[31m   \u001b[0m copying lib/mpl_toolkits/mplot3d/__init__.py -> build/lib.macosx-10.9-universal2-cpython-311/mpl_toolkits/mplot3d\n",
      "  \u001b[31m   \u001b[0m copying lib/mpl_toolkits/mplot3d/axes3d.py -> build/lib.macosx-10.9-universal2-cpython-311/mpl_toolkits/mplot3d\n",
      "  \u001b[31m   \u001b[0m copying lib/mpl_toolkits/mplot3d/axis3d.py -> build/lib.macosx-10.9-universal2-cpython-311/mpl_toolkits/mplot3d\n",
      "  \u001b[31m   \u001b[0m copying lib/mpl_toolkits/mplot3d/art3d.py -> build/lib.macosx-10.9-universal2-cpython-311/mpl_toolkits/mplot3d\n",
      "  \u001b[31m   \u001b[0m creating build/lib.macosx-10.9-universal2-cpython-311/mpl_toolkits/axisartist\n",
      "  \u001b[31m   \u001b[0m copying lib/mpl_toolkits/axisartist/axislines.py -> build/lib.macosx-10.9-universal2-cpython-311/mpl_toolkits/axisartist\n",
      "  \u001b[31m   \u001b[0m copying lib/mpl_toolkits/axisartist/axes_grid.py -> build/lib.macosx-10.9-universal2-cpython-311/mpl_toolkits/axisartist\n",
      "  \u001b[31m   \u001b[0m copying lib/mpl_toolkits/axisartist/grid_finder.py -> build/lib.macosx-10.9-universal2-cpython-311/mpl_toolkits/axisartist\n",
      "  \u001b[31m   \u001b[0m copying lib/mpl_toolkits/axisartist/parasite_axes.py -> build/lib.macosx-10.9-universal2-cpython-311/mpl_toolkits/axisartist\n",
      "  \u001b[31m   \u001b[0m copying lib/mpl_toolkits/axisartist/axis_artist.py -> build/lib.macosx-10.9-universal2-cpython-311/mpl_toolkits/axisartist\n",
      "  \u001b[31m   \u001b[0m copying lib/mpl_toolkits/axisartist/axisline_style.py -> build/lib.macosx-10.9-universal2-cpython-311/mpl_toolkits/axisartist\n",
      "  \u001b[31m   \u001b[0m copying lib/mpl_toolkits/axisartist/__init__.py -> build/lib.macosx-10.9-universal2-cpython-311/mpl_toolkits/axisartist\n",
      "  \u001b[31m   \u001b[0m copying lib/mpl_toolkits/axisartist/angle_helper.py -> build/lib.macosx-10.9-universal2-cpython-311/mpl_toolkits/axisartist\n",
      "  \u001b[31m   \u001b[0m copying lib/mpl_toolkits/axisartist/grid_helper_curvelinear.py -> build/lib.macosx-10.9-universal2-cpython-311/mpl_toolkits/axisartist\n",
      "  \u001b[31m   \u001b[0m copying lib/mpl_toolkits/axisartist/clip_path.py -> build/lib.macosx-10.9-universal2-cpython-311/mpl_toolkits/axisartist\n",
      "  \u001b[31m   \u001b[0m copying lib/mpl_toolkits/axisartist/floating_axes.py -> build/lib.macosx-10.9-universal2-cpython-311/mpl_toolkits/axisartist\n",
      "  \u001b[31m   \u001b[0m copying lib/mpl_toolkits/axisartist/axes_rgb.py -> build/lib.macosx-10.9-universal2-cpython-311/mpl_toolkits/axisartist\n",
      "  \u001b[31m   \u001b[0m copying lib/mpl_toolkits/axisartist/axes_divider.py -> build/lib.macosx-10.9-universal2-cpython-311/mpl_toolkits/axisartist\n",
      "  \u001b[31m   \u001b[0m creating build/lib.macosx-10.9-universal2-cpython-311/matplotlib/compat\n",
      "  \u001b[31m   \u001b[0m copying lib/matplotlib/compat/__init__.py -> build/lib.macosx-10.9-universal2-cpython-311/matplotlib/compat\n",
      "  \u001b[31m   \u001b[0m creating build/lib.macosx-10.9-universal2-cpython-311/matplotlib/tri\n",
      "  \u001b[31m   \u001b[0m copying lib/matplotlib/tri/trirefine.py -> build/lib.macosx-10.9-universal2-cpython-311/matplotlib/tri\n",
      "  \u001b[31m   \u001b[0m copying lib/matplotlib/tri/tripcolor.py -> build/lib.macosx-10.9-universal2-cpython-311/matplotlib/tri\n",
      "  \u001b[31m   \u001b[0m copying lib/matplotlib/tri/trifinder.py -> build/lib.macosx-10.9-universal2-cpython-311/matplotlib/tri\n",
      "  \u001b[31m   \u001b[0m copying lib/matplotlib/tri/__init__.py -> build/lib.macosx-10.9-universal2-cpython-311/matplotlib/tri\n",
      "  \u001b[31m   \u001b[0m copying lib/matplotlib/tri/triplot.py -> build/lib.macosx-10.9-universal2-cpython-311/matplotlib/tri\n",
      "  \u001b[31m   \u001b[0m copying lib/matplotlib/tri/tritools.py -> build/lib.macosx-10.9-universal2-cpython-311/matplotlib/tri\n",
      "  \u001b[31m   \u001b[0m copying lib/matplotlib/tri/tricontour.py -> build/lib.macosx-10.9-universal2-cpython-311/matplotlib/tri\n",
      "  \u001b[31m   \u001b[0m copying lib/matplotlib/tri/triangulation.py -> build/lib.macosx-10.9-universal2-cpython-311/matplotlib/tri\n",
      "  \u001b[31m   \u001b[0m copying lib/matplotlib/tri/triinterpolate.py -> build/lib.macosx-10.9-universal2-cpython-311/matplotlib/tri\n",
      "  \u001b[31m   \u001b[0m creating build/lib.macosx-10.9-universal2-cpython-311/matplotlib/axes\n",
      "  \u001b[31m   \u001b[0m copying lib/matplotlib/axes/_axes.py -> build/lib.macosx-10.9-universal2-cpython-311/matplotlib/axes\n",
      "  \u001b[31m   \u001b[0m copying lib/matplotlib/axes/_base.py -> build/lib.macosx-10.9-universal2-cpython-311/matplotlib/axes\n",
      "  \u001b[31m   \u001b[0m copying lib/matplotlib/axes/_subplots.py -> build/lib.macosx-10.9-universal2-cpython-311/matplotlib/axes\n",
      "  \u001b[31m   \u001b[0m copying lib/matplotlib/axes/__init__.py -> build/lib.macosx-10.9-universal2-cpython-311/matplotlib/axes\n",
      "  \u001b[31m   \u001b[0m copying lib/matplotlib/axes/_secondary_axes.py -> build/lib.macosx-10.9-universal2-cpython-311/matplotlib/axes\n",
      "  \u001b[31m   \u001b[0m creating build/lib.macosx-10.9-universal2-cpython-311/matplotlib/sphinxext\n",
      "  \u001b[31m   \u001b[0m copying lib/matplotlib/sphinxext/__init__.py -> build/lib.macosx-10.9-universal2-cpython-311/matplotlib/sphinxext\n",
      "  \u001b[31m   \u001b[0m copying lib/matplotlib/sphinxext/mathmpl.py -> build/lib.macosx-10.9-universal2-cpython-311/matplotlib/sphinxext\n",
      "  \u001b[31m   \u001b[0m copying lib/matplotlib/sphinxext/plot_directive.py -> build/lib.macosx-10.9-universal2-cpython-311/matplotlib/sphinxext\n",
      "  \u001b[31m   \u001b[0m creating build/lib.macosx-10.9-universal2-cpython-311/matplotlib/cbook\n",
      "  \u001b[31m   \u001b[0m copying lib/matplotlib/cbook/deprecation.py -> build/lib.macosx-10.9-universal2-cpython-311/matplotlib/cbook\n",
      "  \u001b[31m   \u001b[0m copying lib/matplotlib/cbook/__init__.py -> build/lib.macosx-10.9-universal2-cpython-311/matplotlib/cbook\n",
      "  \u001b[31m   \u001b[0m creating build/lib.macosx-10.9-universal2-cpython-311/matplotlib/backends\n",
      "  \u001b[31m   \u001b[0m copying lib/matplotlib/backends/backend_template.py -> build/lib.macosx-10.9-universal2-cpython-311/matplotlib/backends\n",
      "  \u001b[31m   \u001b[0m copying lib/matplotlib/backends/backend_qt4agg.py -> build/lib.macosx-10.9-universal2-cpython-311/matplotlib/backends\n",
      "  \u001b[31m   \u001b[0m copying lib/matplotlib/backends/backend_gtk3cairo.py -> build/lib.macosx-10.9-universal2-cpython-311/matplotlib/backends\n",
      "  \u001b[31m   \u001b[0m copying lib/matplotlib/backends/backend_tkagg.py -> build/lib.macosx-10.9-universal2-cpython-311/matplotlib/backends\n",
      "  \u001b[31m   \u001b[0m copying lib/matplotlib/backends/backend_qt5agg.py -> build/lib.macosx-10.9-universal2-cpython-311/matplotlib/backends\n",
      "  \u001b[31m   \u001b[0m copying lib/matplotlib/backends/backend_qt5.py -> build/lib.macosx-10.9-universal2-cpython-311/matplotlib/backends\n",
      "  \u001b[31m   \u001b[0m copying lib/matplotlib/backends/backend_gtk3agg.py -> build/lib.macosx-10.9-universal2-cpython-311/matplotlib/backends\n",
      "  \u001b[31m   \u001b[0m copying lib/matplotlib/backends/backend_cairo.py -> build/lib.macosx-10.9-universal2-cpython-311/matplotlib/backends\n",
      "  \u001b[31m   \u001b[0m copying lib/matplotlib/backends/backend_pdf.py -> build/lib.macosx-10.9-universal2-cpython-311/matplotlib/backends\n",
      "  \u001b[31m   \u001b[0m copying lib/matplotlib/backends/backend_wxagg.py -> build/lib.macosx-10.9-universal2-cpython-311/matplotlib/backends\n",
      "  \u001b[31m   \u001b[0m copying lib/matplotlib/backends/backend_pgf.py -> build/lib.macosx-10.9-universal2-cpython-311/matplotlib/backends\n",
      "  \u001b[31m   \u001b[0m copying lib/matplotlib/backends/backend_mixed.py -> build/lib.macosx-10.9-universal2-cpython-311/matplotlib/backends\n",
      "  \u001b[31m   \u001b[0m copying lib/matplotlib/backends/backend_macosx.py -> build/lib.macosx-10.9-universal2-cpython-311/matplotlib/backends\n",
      "  \u001b[31m   \u001b[0m copying lib/matplotlib/backends/__init__.py -> build/lib.macosx-10.9-universal2-cpython-311/matplotlib/backends\n",
      "  \u001b[31m   \u001b[0m copying lib/matplotlib/backends/backend_qt4.py -> build/lib.macosx-10.9-universal2-cpython-311/matplotlib/backends\n",
      "  \u001b[31m   \u001b[0m copying lib/matplotlib/backends/backend_tkcairo.py -> build/lib.macosx-10.9-universal2-cpython-311/matplotlib/backends\n",
      "  \u001b[31m   \u001b[0m copying lib/matplotlib/backends/backend_qt4cairo.py -> build/lib.macosx-10.9-universal2-cpython-311/matplotlib/backends\n",
      "  \u001b[31m   \u001b[0m copying lib/matplotlib/backends/backend_gtk3.py -> build/lib.macosx-10.9-universal2-cpython-311/matplotlib/backends\n",
      "  \u001b[31m   \u001b[0m copying lib/matplotlib/backends/backend_wxcairo.py -> build/lib.macosx-10.9-universal2-cpython-311/matplotlib/backends\n",
      "  \u001b[31m   \u001b[0m copying lib/matplotlib/backends/backend_nbagg.py -> build/lib.macosx-10.9-universal2-cpython-311/matplotlib/backends\n",
      "  \u001b[31m   \u001b[0m copying lib/matplotlib/backends/backend_webagg_core.py -> build/lib.macosx-10.9-universal2-cpython-311/matplotlib/backends\n",
      "  \u001b[31m   \u001b[0m copying lib/matplotlib/backends/backend_wx.py -> build/lib.macosx-10.9-universal2-cpython-311/matplotlib/backends\n",
      "  \u001b[31m   \u001b[0m copying lib/matplotlib/backends/backend_qt5cairo.py -> build/lib.macosx-10.9-universal2-cpython-311/matplotlib/backends\n",
      "  \u001b[31m   \u001b[0m copying lib/matplotlib/backends/_backend_tk.py -> build/lib.macosx-10.9-universal2-cpython-311/matplotlib/backends\n",
      "  \u001b[31m   \u001b[0m copying lib/matplotlib/backends/qt_compat.py -> build/lib.macosx-10.9-universal2-cpython-311/matplotlib/backends\n",
      "  \u001b[31m   \u001b[0m copying lib/matplotlib/backends/backend_svg.py -> build/lib.macosx-10.9-universal2-cpython-311/matplotlib/backends\n",
      "  \u001b[31m   \u001b[0m copying lib/matplotlib/backends/_backend_pdf_ps.py -> build/lib.macosx-10.9-universal2-cpython-311/matplotlib/backends\n",
      "  \u001b[31m   \u001b[0m copying lib/matplotlib/backends/backend_webagg.py -> build/lib.macosx-10.9-universal2-cpython-311/matplotlib/backends\n",
      "  \u001b[31m   \u001b[0m copying lib/matplotlib/backends/backend_ps.py -> build/lib.macosx-10.9-universal2-cpython-311/matplotlib/backends\n",
      "  \u001b[31m   \u001b[0m copying lib/matplotlib/backends/backend_agg.py -> build/lib.macosx-10.9-universal2-cpython-311/matplotlib/backends\n",
      "  \u001b[31m   \u001b[0m creating build/lib.macosx-10.9-universal2-cpython-311/matplotlib/tests\n",
      "  \u001b[31m   \u001b[0m copying lib/matplotlib/tests/test_marker.py -> build/lib.macosx-10.9-universal2-cpython-311/matplotlib/tests\n",
      "  \u001b[31m   \u001b[0m copying lib/matplotlib/tests/test_determinism.py -> build/lib.macosx-10.9-universal2-cpython-311/matplotlib/tests\n",
      "  \u001b[31m   \u001b[0m copying lib/matplotlib/tests/test_backend_tk.py -> build/lib.macosx-10.9-universal2-cpython-311/matplotlib/tests\n",
      "  \u001b[31m   \u001b[0m copying lib/matplotlib/tests/test_skew.py -> build/lib.macosx-10.9-universal2-cpython-311/matplotlib/tests\n",
      "  \u001b[31m   \u001b[0m copying lib/matplotlib/tests/test_cycles.py -> build/lib.macosx-10.9-universal2-cpython-311/matplotlib/tests\n",
      "  \u001b[31m   \u001b[0m copying lib/matplotlib/tests/test_artist.py -> build/lib.macosx-10.9-universal2-cpython-311/matplotlib/tests\n",
      "  \u001b[31m   \u001b[0m copying lib/matplotlib/tests/test_backend_webagg.py -> build/lib.macosx-10.9-universal2-cpython-311/matplotlib/tests\n",
      "  \u001b[31m   \u001b[0m copying lib/matplotlib/tests/test_backend_pdf.py -> build/lib.macosx-10.9-universal2-cpython-311/matplotlib/tests\n",
      "  \u001b[31m   \u001b[0m copying lib/matplotlib/tests/test_lines.py -> build/lib.macosx-10.9-universal2-cpython-311/matplotlib/tests\n",
      "  \u001b[31m   \u001b[0m copying lib/matplotlib/tests/test_basic.py -> build/lib.macosx-10.9-universal2-cpython-311/matplotlib/tests\n",
      "  \u001b[31m   \u001b[0m copying lib/matplotlib/tests/test_backend_bases.py -> build/lib.macosx-10.9-universal2-cpython-311/matplotlib/tests\n",
      "  \u001b[31m   \u001b[0m copying lib/matplotlib/tests/test_backend_pgf.py -> build/lib.macosx-10.9-universal2-cpython-311/matplotlib/tests\n",
      "  \u001b[31m   \u001b[0m copying lib/matplotlib/tests/conftest.py -> build/lib.macosx-10.9-universal2-cpython-311/matplotlib/tests\n",
      "  \u001b[31m   \u001b[0m copying lib/matplotlib/tests/test_simplification.py -> build/lib.macosx-10.9-universal2-cpython-311/matplotlib/tests\n",
      "  \u001b[31m   \u001b[0m copying lib/matplotlib/tests/test_spines.py -> build/lib.macosx-10.9-universal2-cpython-311/matplotlib/tests\n",
      "  \u001b[31m   \u001b[0m copying lib/matplotlib/tests/test_mathtext.py -> build/lib.macosx-10.9-universal2-cpython-311/matplotlib/tests\n",
      "  \u001b[31m   \u001b[0m copying lib/matplotlib/tests/test_arrow_patches.py -> build/lib.macosx-10.9-universal2-cpython-311/matplotlib/tests\n",
      "  \u001b[31m   \u001b[0m copying lib/matplotlib/tests/test_streamplot.py -> build/lib.macosx-10.9-universal2-cpython-311/matplotlib/tests\n",
      "  \u001b[31m   \u001b[0m copying lib/matplotlib/tests/test_tightlayout.py -> build/lib.macosx-10.9-universal2-cpython-311/matplotlib/tests\n",
      "  \u001b[31m   \u001b[0m copying lib/matplotlib/tests/test_backend_ps.py -> build/lib.macosx-10.9-universal2-cpython-311/matplotlib/tests\n",
      "  \u001b[31m   \u001b[0m copying lib/matplotlib/tests/test_type1font.py -> build/lib.macosx-10.9-universal2-cpython-311/matplotlib/tests\n",
      "  \u001b[31m   \u001b[0m copying lib/matplotlib/tests/test_animation.py -> build/lib.macosx-10.9-universal2-cpython-311/matplotlib/tests\n",
      "  \u001b[31m   \u001b[0m copying lib/matplotlib/tests/test_container.py -> build/lib.macosx-10.9-universal2-cpython-311/matplotlib/tests\n",
      "  \u001b[31m   \u001b[0m copying lib/matplotlib/tests/test_pickle.py -> build/lib.macosx-10.9-universal2-cpython-311/matplotlib/tests\n",
      "  \u001b[31m   \u001b[0m copying lib/matplotlib/tests/test_dates.py -> build/lib.macosx-10.9-universal2-cpython-311/matplotlib/tests\n",
      "  \u001b[31m   \u001b[0m copying lib/matplotlib/tests/test_table.py -> build/lib.macosx-10.9-universal2-cpython-311/matplotlib/tests\n",
      "  \u001b[31m   \u001b[0m copying lib/matplotlib/tests/test_texmanager.py -> build/lib.macosx-10.9-universal2-cpython-311/matplotlib/tests\n",
      "  \u001b[31m   \u001b[0m copying lib/matplotlib/tests/test_pyplot.py -> build/lib.macosx-10.9-universal2-cpython-311/matplotlib/tests\n",
      "  \u001b[31m   \u001b[0m copying lib/matplotlib/tests/test_backends_interactive.py -> build/lib.macosx-10.9-universal2-cpython-311/matplotlib/tests\n",
      "  \u001b[31m   \u001b[0m copying lib/matplotlib/tests/test_subplots.py -> build/lib.macosx-10.9-universal2-cpython-311/matplotlib/tests\n",
      "  \u001b[31m   \u001b[0m copying lib/matplotlib/tests/test_ticker.py -> build/lib.macosx-10.9-universal2-cpython-311/matplotlib/tests\n",
      "  \u001b[31m   \u001b[0m copying lib/matplotlib/tests/test_image.py -> build/lib.macosx-10.9-universal2-cpython-311/matplotlib/tests\n",
      "  \u001b[31m   \u001b[0m copying lib/matplotlib/tests/test_fontconfig_pattern.py -> build/lib.macosx-10.9-universal2-cpython-311/matplotlib/tests\n",
      "  \u001b[31m   \u001b[0m copying lib/matplotlib/tests/test_scale.py -> build/lib.macosx-10.9-universal2-cpython-311/matplotlib/tests\n",
      "  \u001b[31m   \u001b[0m copying lib/matplotlib/tests/__init__.py -> build/lib.macosx-10.9-universal2-cpython-311/matplotlib/tests\n",
      "  \u001b[31m   \u001b[0m copying lib/matplotlib/tests/test_sankey.py -> build/lib.macosx-10.9-universal2-cpython-311/matplotlib/tests\n",
      "  \u001b[31m   \u001b[0m copying lib/matplotlib/tests/test_colorbar.py -> build/lib.macosx-10.9-universal2-cpython-311/matplotlib/tests\n",
      "  \u001b[31m   \u001b[0m copying lib/matplotlib/tests/test_colors.py -> build/lib.macosx-10.9-universal2-cpython-311/matplotlib/tests\n",
      "  \u001b[31m   \u001b[0m copying lib/matplotlib/tests/test_usetex.py -> build/lib.macosx-10.9-universal2-cpython-311/matplotlib/tests\n",
      "  \u001b[31m   \u001b[0m copying lib/matplotlib/tests/test_backend_cairo.py -> build/lib.macosx-10.9-universal2-cpython-311/matplotlib/tests\n",
      "  \u001b[31m   \u001b[0m copying lib/matplotlib/tests/test_mlab.py -> build/lib.macosx-10.9-universal2-cpython-311/matplotlib/tests\n",
      "  \u001b[31m   \u001b[0m copying lib/matplotlib/tests/test_font_manager.py -> build/lib.macosx-10.9-universal2-cpython-311/matplotlib/tests\n",
      "  \u001b[31m   \u001b[0m copying lib/matplotlib/tests/test_agg.py -> build/lib.macosx-10.9-universal2-cpython-311/matplotlib/tests\n",
      "  \u001b[31m   \u001b[0m copying lib/matplotlib/tests/test_quiver.py -> build/lib.macosx-10.9-universal2-cpython-311/matplotlib/tests\n",
      "  \u001b[31m   \u001b[0m copying lib/matplotlib/tests/test_text.py -> build/lib.macosx-10.9-universal2-cpython-311/matplotlib/tests\n",
      "  \u001b[31m   \u001b[0m copying lib/matplotlib/tests/test_units.py -> build/lib.macosx-10.9-universal2-cpython-311/matplotlib/tests\n",
      "  \u001b[31m   \u001b[0m copying lib/matplotlib/tests/test_dviread.py -> build/lib.macosx-10.9-universal2-cpython-311/matplotlib/tests\n",
      "  \u001b[31m   \u001b[0m copying lib/matplotlib/tests/test_widgets.py -> build/lib.macosx-10.9-universal2-cpython-311/matplotlib/tests\n",
      "  \u001b[31m   \u001b[0m copying lib/matplotlib/tests/test_preprocess_data.py -> build/lib.macosx-10.9-universal2-cpython-311/matplotlib/tests\n",
      "  \u001b[31m   \u001b[0m copying lib/matplotlib/tests/test_constrainedlayout.py -> build/lib.macosx-10.9-universal2-cpython-311/matplotlib/tests\n",
      "  \u001b[31m   \u001b[0m copying lib/matplotlib/tests/test_backend_nbagg.py -> build/lib.macosx-10.9-universal2-cpython-311/matplotlib/tests\n",
      "  \u001b[31m   \u001b[0m copying lib/matplotlib/tests/test_patheffects.py -> build/lib.macosx-10.9-universal2-cpython-311/matplotlib/tests\n",
      "  \u001b[31m   \u001b[0m copying lib/matplotlib/tests/test_patches.py -> build/lib.macosx-10.9-universal2-cpython-311/matplotlib/tests\n",
      "  \u001b[31m   \u001b[0m copying lib/matplotlib/tests/test_rcparams.py -> build/lib.macosx-10.9-universal2-cpython-311/matplotlib/tests\n",
      "  \u001b[31m   \u001b[0m copying lib/matplotlib/tests/test_backend_tools.py -> build/lib.macosx-10.9-universal2-cpython-311/matplotlib/tests\n",
      "  \u001b[31m   \u001b[0m copying lib/matplotlib/tests/test_agg_filter.py -> build/lib.macosx-10.9-universal2-cpython-311/matplotlib/tests\n",
      "  \u001b[31m   \u001b[0m copying lib/matplotlib/tests/test_style.py -> build/lib.macosx-10.9-universal2-cpython-311/matplotlib/tests\n",
      "  \u001b[31m   \u001b[0m copying lib/matplotlib/tests/test_category.py -> build/lib.macosx-10.9-universal2-cpython-311/matplotlib/tests\n",
      "  \u001b[31m   \u001b[0m copying lib/matplotlib/tests/test_offsetbox.py -> build/lib.macosx-10.9-universal2-cpython-311/matplotlib/tests\n",
      "  \u001b[31m   \u001b[0m copying lib/matplotlib/tests/test_contour.py -> build/lib.macosx-10.9-universal2-cpython-311/matplotlib/tests\n",
      "  \u001b[31m   \u001b[0m copying lib/matplotlib/tests/test_triangulation.py -> build/lib.macosx-10.9-universal2-cpython-311/matplotlib/tests\n",
      "  \u001b[31m   \u001b[0m copying lib/matplotlib/tests/test_bbox_tight.py -> build/lib.macosx-10.9-universal2-cpython-311/matplotlib/tests\n",
      "  \u001b[31m   \u001b[0m copying lib/matplotlib/tests/test_png.py -> build/lib.macosx-10.9-universal2-cpython-311/matplotlib/tests\n",
      "  \u001b[31m   \u001b[0m copying lib/matplotlib/tests/test_transforms.py -> build/lib.macosx-10.9-universal2-cpython-311/matplotlib/tests\n",
      "  \u001b[31m   \u001b[0m copying lib/matplotlib/tests/test_cbook.py -> build/lib.macosx-10.9-universal2-cpython-311/matplotlib/tests\n",
      "  \u001b[31m   \u001b[0m copying lib/matplotlib/tests/test_backend_qt.py -> build/lib.macosx-10.9-universal2-cpython-311/matplotlib/tests\n",
      "  \u001b[31m   \u001b[0m copying lib/matplotlib/tests/test_gridspec.py -> build/lib.macosx-10.9-universal2-cpython-311/matplotlib/tests\n",
      "  \u001b[31m   \u001b[0m copying lib/matplotlib/tests/test_afm.py -> build/lib.macosx-10.9-universal2-cpython-311/matplotlib/tests\n",
      "  \u001b[31m   \u001b[0m copying lib/matplotlib/tests/test_path.py -> build/lib.macosx-10.9-universal2-cpython-311/matplotlib/tests\n",
      "  \u001b[31m   \u001b[0m copying lib/matplotlib/tests/test_collections.py -> build/lib.macosx-10.9-universal2-cpython-311/matplotlib/tests\n",
      "  \u001b[31m   \u001b[0m copying lib/matplotlib/tests/test_axes.py -> build/lib.macosx-10.9-universal2-cpython-311/matplotlib/tests\n",
      "  \u001b[31m   \u001b[0m copying lib/matplotlib/tests/test_figure.py -> build/lib.macosx-10.9-universal2-cpython-311/matplotlib/tests\n",
      "  \u001b[31m   \u001b[0m copying lib/matplotlib/tests/test_legend.py -> build/lib.macosx-10.9-universal2-cpython-311/matplotlib/tests\n",
      "  \u001b[31m   \u001b[0m copying lib/matplotlib/tests/test_sphinxext.py -> build/lib.macosx-10.9-universal2-cpython-311/matplotlib/tests\n",
      "  \u001b[31m   \u001b[0m copying lib/matplotlib/tests/test_matplotlib.py -> build/lib.macosx-10.9-universal2-cpython-311/matplotlib/tests\n",
      "  \u001b[31m   \u001b[0m copying lib/matplotlib/tests/test_compare_images.py -> build/lib.macosx-10.9-universal2-cpython-311/matplotlib/tests\n",
      "  \u001b[31m   \u001b[0m copying lib/matplotlib/tests/test_ttconv.py -> build/lib.macosx-10.9-universal2-cpython-311/matplotlib/tests\n",
      "  \u001b[31m   \u001b[0m copying lib/matplotlib/tests/test_backend_svg.py -> build/lib.macosx-10.9-universal2-cpython-311/matplotlib/tests\n",
      "  \u001b[31m   \u001b[0m copying lib/matplotlib/tests/test_testing.py -> build/lib.macosx-10.9-universal2-cpython-311/matplotlib/tests\n",
      "  \u001b[31m   \u001b[0m creating build/lib.macosx-10.9-universal2-cpython-311/matplotlib/style\n",
      "  \u001b[31m   \u001b[0m copying lib/matplotlib/style/__init__.py -> build/lib.macosx-10.9-universal2-cpython-311/matplotlib/style\n",
      "  \u001b[31m   \u001b[0m copying lib/matplotlib/style/core.py -> build/lib.macosx-10.9-universal2-cpython-311/matplotlib/style\n",
      "  \u001b[31m   \u001b[0m creating build/lib.macosx-10.9-universal2-cpython-311/matplotlib/projections\n",
      "  \u001b[31m   \u001b[0m copying lib/matplotlib/projections/geo.py -> build/lib.macosx-10.9-universal2-cpython-311/matplotlib/projections\n",
      "  \u001b[31m   \u001b[0m copying lib/matplotlib/projections/polar.py -> build/lib.macosx-10.9-universal2-cpython-311/matplotlib/projections\n",
      "  \u001b[31m   \u001b[0m copying lib/matplotlib/projections/__init__.py -> build/lib.macosx-10.9-universal2-cpython-311/matplotlib/projections\n",
      "  \u001b[31m   \u001b[0m creating build/lib.macosx-10.9-universal2-cpython-311/matplotlib/testing\n",
      "  \u001b[31m   \u001b[0m copying lib/matplotlib/testing/conftest.py -> build/lib.macosx-10.9-universal2-cpython-311/matplotlib/testing\n",
      "  \u001b[31m   \u001b[0m copying lib/matplotlib/testing/__init__.py -> build/lib.macosx-10.9-universal2-cpython-311/matplotlib/testing\n",
      "  \u001b[31m   \u001b[0m copying lib/matplotlib/testing/exceptions.py -> build/lib.macosx-10.9-universal2-cpython-311/matplotlib/testing\n",
      "  \u001b[31m   \u001b[0m copying lib/matplotlib/testing/disable_internet.py -> build/lib.macosx-10.9-universal2-cpython-311/matplotlib/testing\n",
      "  \u001b[31m   \u001b[0m copying lib/matplotlib/testing/compare.py -> build/lib.macosx-10.9-universal2-cpython-311/matplotlib/testing\n",
      "  \u001b[31m   \u001b[0m copying lib/matplotlib/testing/decorators.py -> build/lib.macosx-10.9-universal2-cpython-311/matplotlib/testing\n",
      "  \u001b[31m   \u001b[0m creating build/lib.macosx-10.9-universal2-cpython-311/matplotlib/backends/qt_editor\n",
      "  \u001b[31m   \u001b[0m copying lib/matplotlib/backends/qt_editor/_formlayout.py -> build/lib.macosx-10.9-universal2-cpython-311/matplotlib/backends/qt_editor\n",
      "  \u001b[31m   \u001b[0m copying lib/matplotlib/backends/qt_editor/formlayout.py -> build/lib.macosx-10.9-universal2-cpython-311/matplotlib/backends/qt_editor\n",
      "  \u001b[31m   \u001b[0m copying lib/matplotlib/backends/qt_editor/__init__.py -> build/lib.macosx-10.9-universal2-cpython-311/matplotlib/backends/qt_editor\n",
      "  \u001b[31m   \u001b[0m copying lib/matplotlib/backends/qt_editor/formsubplottool.py -> build/lib.macosx-10.9-universal2-cpython-311/matplotlib/backends/qt_editor\n",
      "  \u001b[31m   \u001b[0m copying lib/matplotlib/backends/qt_editor/figureoptions.py -> build/lib.macosx-10.9-universal2-cpython-311/matplotlib/backends/qt_editor\n",
      "  \u001b[31m   \u001b[0m creating build/lib.macosx-10.9-universal2-cpython-311/matplotlib/testing/jpl_units\n",
      "  \u001b[31m   \u001b[0m copying lib/matplotlib/testing/jpl_units/UnitDblFormatter.py -> build/lib.macosx-10.9-universal2-cpython-311/matplotlib/testing/jpl_units\n",
      "  \u001b[31m   \u001b[0m copying lib/matplotlib/testing/jpl_units/UnitDbl.py -> build/lib.macosx-10.9-universal2-cpython-311/matplotlib/testing/jpl_units\n",
      "  \u001b[31m   \u001b[0m copying lib/matplotlib/testing/jpl_units/EpochConverter.py -> build/lib.macosx-10.9-universal2-cpython-311/matplotlib/testing/jpl_units\n",
      "  \u001b[31m   \u001b[0m copying lib/matplotlib/testing/jpl_units/Duration.py -> build/lib.macosx-10.9-universal2-cpython-311/matplotlib/testing/jpl_units\n",
      "  \u001b[31m   \u001b[0m copying lib/matplotlib/testing/jpl_units/__init__.py -> build/lib.macosx-10.9-universal2-cpython-311/matplotlib/testing/jpl_units\n",
      "  \u001b[31m   \u001b[0m copying lib/matplotlib/testing/jpl_units/UnitDblConverter.py -> build/lib.macosx-10.9-universal2-cpython-311/matplotlib/testing/jpl_units\n",
      "  \u001b[31m   \u001b[0m copying lib/matplotlib/testing/jpl_units/Epoch.py -> build/lib.macosx-10.9-universal2-cpython-311/matplotlib/testing/jpl_units\n",
      "  \u001b[31m   \u001b[0m copying lib/matplotlib/testing/jpl_units/StrConverter.py -> build/lib.macosx-10.9-universal2-cpython-311/matplotlib/testing/jpl_units\n",
      "  \u001b[31m   \u001b[0m creating build/lib.macosx-10.9-universal2-cpython-311/matplotlib/mpl-data\n",
      "  \u001b[31m   \u001b[0m creating build/lib.macosx-10.9-universal2-cpython-311/matplotlib/mpl-data/fonts\n",
      "  \u001b[31m   \u001b[0m creating build/lib.macosx-10.9-universal2-cpython-311/matplotlib/mpl-data/fonts/pdfcorefonts\n",
      "  \u001b[31m   \u001b[0m copying lib/matplotlib/mpl-data/fonts/pdfcorefonts/Courier-BoldOblique.afm -> build/lib.macosx-10.9-universal2-cpython-311/matplotlib/mpl-data/fonts/pdfcorefonts\n",
      "  \u001b[31m   \u001b[0m creating build/lib.macosx-10.9-universal2-cpython-311/matplotlib/mpl-data/stylelib\n",
      "  \u001b[31m   \u001b[0m copying lib/matplotlib/mpl-data/stylelib/seaborn-colorblind.mplstyle -> build/lib.macosx-10.9-universal2-cpython-311/matplotlib/mpl-data/stylelib\n",
      "  \u001b[31m   \u001b[0m creating build/lib.macosx-10.9-universal2-cpython-311/matplotlib/backends/web_backend\n",
      "  \u001b[31m   \u001b[0m copying lib/matplotlib/backends/web_backend/single_figure.html -> build/lib.macosx-10.9-universal2-cpython-311/matplotlib/backends/web_backend\n",
      "  \u001b[31m   \u001b[0m copying lib/matplotlib/mpl-data/stylelib/classic.mplstyle -> build/lib.macosx-10.9-universal2-cpython-311/matplotlib/mpl-data/stylelib\n",
      "  \u001b[31m   \u001b[0m creating build/lib.macosx-10.9-universal2-cpython-311/matplotlib/backends/web_backend/jquery-ui-1.12.1\n",
      "  \u001b[31m   \u001b[0m copying lib/matplotlib/backends/web_backend/jquery-ui-1.12.1/index.html -> build/lib.macosx-10.9-universal2-cpython-311/matplotlib/backends/web_backend/jquery-ui-1.12.1\n",
      "  \u001b[31m   \u001b[0m creating build/lib.macosx-10.9-universal2-cpython-311/matplotlib/mpl-data/images\n",
      "  \u001b[31m   \u001b[0m copying lib/matplotlib/mpl-data/images/forward_large.gif -> build/lib.macosx-10.9-universal2-cpython-311/matplotlib/mpl-data/images\n",
      "  \u001b[31m   \u001b[0m copying lib/matplotlib/mpl-data/images/matplotlib.svg -> build/lib.macosx-10.9-universal2-cpython-311/matplotlib/mpl-data/images\n",
      "  \u001b[31m   \u001b[0m copying lib/matplotlib/mpl-data/images/hand.pdf -> build/lib.macosx-10.9-universal2-cpython-311/matplotlib/mpl-data/images\n",
      "  \u001b[31m   \u001b[0m creating build/lib.macosx-10.9-universal2-cpython-311/matplotlib/mpl-data/fonts/ttf\n",
      "  \u001b[31m   \u001b[0m copying lib/matplotlib/mpl-data/fonts/ttf/DejaVuSans-Oblique.ttf -> build/lib.macosx-10.9-universal2-cpython-311/matplotlib/mpl-data/fonts/ttf\n",
      "  \u001b[31m   \u001b[0m copying lib/matplotlib/mpl-data/fonts/pdfcorefonts/Times-Italic.afm -> build/lib.macosx-10.9-universal2-cpython-311/matplotlib/mpl-data/fonts/pdfcorefonts\n",
      "  \u001b[31m   \u001b[0m copying lib/matplotlib/mpl-data/fonts/ttf/cmex10.ttf -> build/lib.macosx-10.9-universal2-cpython-311/matplotlib/mpl-data/fonts/ttf\n",
      "  \u001b[31m   \u001b[0m copying lib/matplotlib/mpl-data/images/back.gif -> build/lib.macosx-10.9-universal2-cpython-311/matplotlib/mpl-data/images\n",
      "  \u001b[31m   \u001b[0m creating build/lib.macosx-10.9-universal2-cpython-311/matplotlib/mpl-data/sample_data\n",
      "  \u001b[31m   \u001b[0m copying lib/matplotlib/mpl-data/sample_data/Minduka_Present_Blue_Pack.png -> build/lib.macosx-10.9-universal2-cpython-311/matplotlib/mpl-data/sample_data\n",
      "  \u001b[31m   \u001b[0m creating build/lib.macosx-10.9-universal2-cpython-311/matplotlib/mpl-data/fonts/afm\n",
      "  \u001b[31m   \u001b[0m copying lib/matplotlib/mpl-data/fonts/afm/pncri8a.afm -> build/lib.macosx-10.9-universal2-cpython-311/matplotlib/mpl-data/fonts/afm\n",
      "  \u001b[31m   \u001b[0m copying lib/matplotlib/mpl-data/fonts/ttf/STIXGeneral.ttf -> build/lib.macosx-10.9-universal2-cpython-311/matplotlib/mpl-data/fonts/ttf\n",
      "  \u001b[31m   \u001b[0m copying lib/matplotlib/mpl-data/fonts/afm/pbkd8a.afm -> build/lib.macosx-10.9-universal2-cpython-311/matplotlib/mpl-data/fonts/afm\n",
      "  \u001b[31m   \u001b[0m copying lib/matplotlib/mpl-data/images/subplots.gif -> build/lib.macosx-10.9-universal2-cpython-311/matplotlib/mpl-data/images\n",
      "  \u001b[31m   \u001b[0m copying lib/matplotlib/mpl-data/fonts/afm/phvro8an.afm -> build/lib.macosx-10.9-universal2-cpython-311/matplotlib/mpl-data/fonts/afm\n",
      "  \u001b[31m   \u001b[0m copying lib/matplotlib/mpl-data/images/filesave.pdf -> build/lib.macosx-10.9-universal2-cpython-311/matplotlib/mpl-data/images\n",
      "  \u001b[31m   \u001b[0m copying lib/matplotlib/mpl-data/fonts/afm/pagdo8a.afm -> build/lib.macosx-10.9-universal2-cpython-311/matplotlib/mpl-data/fonts/afm\n",
      "  \u001b[31m   \u001b[0m copying lib/matplotlib/mpl-data/fonts/afm/pagk8a.afm -> build/lib.macosx-10.9-universal2-cpython-311/matplotlib/mpl-data/fonts/afm\n",
      "  \u001b[31m   \u001b[0m copying lib/matplotlib/mpl-data/fonts/ttf/LICENSE_STIX -> build/lib.macosx-10.9-universal2-cpython-311/matplotlib/mpl-data/fonts/ttf\n",
      "  \u001b[31m   \u001b[0m copying lib/matplotlib/mpl-data/images/hand_large.gif -> build/lib.macosx-10.9-universal2-cpython-311/matplotlib/mpl-data/images\n",
      "  \u001b[31m   \u001b[0m creating build/lib.macosx-10.9-universal2-cpython-311/matplotlib/backends/web_backend/jquery-ui-1.12.1/images\n",
      "  \u001b[31m   \u001b[0m copying lib/matplotlib/backends/web_backend/jquery-ui-1.12.1/images/ui-icons_444444_256x240.png -> build/lib.macosx-10.9-universal2-cpython-311/matplotlib/backends/web_backend/jquery-ui-1.12.1/images\n",
      "  \u001b[31m   \u001b[0m copying lib/matplotlib/mpl-data/images/hand.png -> build/lib.macosx-10.9-universal2-cpython-311/matplotlib/mpl-data/images\n",
      "  \u001b[31m   \u001b[0m copying lib/matplotlib/mpl-data/fonts/afm/pncbi8a.afm -> build/lib.macosx-10.9-universal2-cpython-311/matplotlib/mpl-data/fonts/afm\n",
      "  \u001b[31m   \u001b[0m copying lib/matplotlib/mpl-data/fonts/afm/pplri8a.afm -> build/lib.macosx-10.9-universal2-cpython-311/matplotlib/mpl-data/fonts/afm\n",
      "  \u001b[31m   \u001b[0m copying lib/matplotlib/mpl-data/images/qt4_editor_options_large.png -> build/lib.macosx-10.9-universal2-cpython-311/matplotlib/mpl-data/images\n",
      "  \u001b[31m   \u001b[0m copying lib/matplotlib/mpl-data/fonts/ttf/STIXSizTwoSymReg.ttf -> build/lib.macosx-10.9-universal2-cpython-311/matplotlib/mpl-data/fonts/ttf\n",
      "  \u001b[31m   \u001b[0m copying lib/matplotlib/mpl-data/fonts/afm/putb8a.afm -> build/lib.macosx-10.9-universal2-cpython-311/matplotlib/mpl-data/fonts/afm\n",
      "  \u001b[31m   \u001b[0m copying lib/matplotlib/mpl-data/sample_data/msft.csv -> build/lib.macosx-10.9-universal2-cpython-311/matplotlib/mpl-data/sample_data\n",
      "  \u001b[31m   \u001b[0m copying lib/matplotlib/mpl-data/images/zoom_to_rect.gif -> build/lib.macosx-10.9-universal2-cpython-311/matplotlib/mpl-data/images\n",
      "  \u001b[31m   \u001b[0m copying lib/matplotlib/mpl-data/fonts/pdfcorefonts/Times-Bold.afm -> build/lib.macosx-10.9-universal2-cpython-311/matplotlib/mpl-data/fonts/pdfcorefonts\n",
      "  \u001b[31m   \u001b[0m copying lib/matplotlib/mpl-data/images/home_large.gif -> build/lib.macosx-10.9-universal2-cpython-311/matplotlib/mpl-data/images\n",
      "  \u001b[31m   \u001b[0m copying lib/matplotlib/mpl-data/fonts/pdfcorefonts/Courier-Bold.afm -> build/lib.macosx-10.9-universal2-cpython-311/matplotlib/mpl-data/fonts/pdfcorefonts\n",
      "  \u001b[31m   \u001b[0m copying lib/matplotlib/mpl-data/images/help_large.png -> build/lib.macosx-10.9-universal2-cpython-311/matplotlib/mpl-data/images\n",
      "  \u001b[31m   \u001b[0m copying lib/matplotlib/mpl-data/stylelib/seaborn.mplstyle -> build/lib.macosx-10.9-universal2-cpython-311/matplotlib/mpl-data/stylelib\n",
      "  \u001b[31m   \u001b[0m copying lib/matplotlib/mpl-data/images/help.pdf -> build/lib.macosx-10.9-universal2-cpython-311/matplotlib/mpl-data/images\n",
      "  \u001b[31m   \u001b[0m copying lib/matplotlib/mpl-data/fonts/ttf/STIXGeneralBol.ttf -> build/lib.macosx-10.9-universal2-cpython-311/matplotlib/mpl-data/fonts/ttf\n",
      "  \u001b[31m   \u001b[0m copying lib/matplotlib/mpl-data/fonts/ttf/STIXSizThreeSymBol.ttf -> build/lib.macosx-10.9-universal2-cpython-311/matplotlib/mpl-data/fonts/ttf\n",
      "  \u001b[31m   \u001b[0m creating build/lib.macosx-10.9-universal2-cpython-311/matplotlib/mpl-data/sample_data/axes_grid\n",
      "  \u001b[31m   \u001b[0m copying lib/matplotlib/mpl-data/sample_data/axes_grid/bivariate_normal.npy -> build/lib.macosx-10.9-universal2-cpython-311/matplotlib/mpl-data/sample_data/axes_grid\n",
      "  \u001b[31m   \u001b[0m copying lib/matplotlib/mpl-data/sample_data/jacksboro_fault_dem.npz -> build/lib.macosx-10.9-universal2-cpython-311/matplotlib/mpl-data/sample_data\n",
      "  \u001b[31m   \u001b[0m copying lib/matplotlib/mpl-data/stylelib/fivethirtyeight.mplstyle -> build/lib.macosx-10.9-universal2-cpython-311/matplotlib/mpl-data/stylelib\n",
      "  \u001b[31m   \u001b[0m copying lib/matplotlib/mpl-data/images/back.pdf -> build/lib.macosx-10.9-universal2-cpython-311/matplotlib/mpl-data/images\n",
      "  \u001b[31m   \u001b[0m copying lib/matplotlib/mpl-data/images/forward.pdf -> build/lib.macosx-10.9-universal2-cpython-311/matplotlib/mpl-data/images\n",
      "  \u001b[31m   \u001b[0m copying lib/matplotlib/mpl-data/fonts/afm/pbkli8a.afm -> build/lib.macosx-10.9-universal2-cpython-311/matplotlib/mpl-data/fonts/afm\n",
      "  \u001b[31m   \u001b[0m copying lib/matplotlib/mpl-data/stylelib/seaborn-muted.mplstyle -> build/lib.macosx-10.9-universal2-cpython-311/matplotlib/mpl-data/stylelib\n",
      "  \u001b[31m   \u001b[0m copying lib/matplotlib/backends/web_backend/jquery-ui-1.12.1/jquery-ui.theme.css -> build/lib.macosx-10.9-universal2-cpython-311/matplotlib/backends/web_backend/jquery-ui-1.12.1\n",
      "  \u001b[31m   \u001b[0m copying lib/matplotlib/mpl-data/fonts/ttf/cmb10.ttf -> build/lib.macosx-10.9-universal2-cpython-311/matplotlib/mpl-data/fonts/ttf\n",
      "  \u001b[31m   \u001b[0m copying lib/matplotlib/mpl-data/stylelib/seaborn-white.mplstyle -> build/lib.macosx-10.9-universal2-cpython-311/matplotlib/mpl-data/stylelib\n",
      "  \u001b[31m   \u001b[0m creating build/lib.macosx-10.9-universal2-cpython-311/matplotlib/backends/web_backend/jquery-ui-1.12.1/external\n",
      "  \u001b[31m   \u001b[0m creating build/lib.macosx-10.9-universal2-cpython-311/matplotlib/backends/web_backend/jquery-ui-1.12.1/external/jquery\n",
      "  \u001b[31m   \u001b[0m copying lib/matplotlib/backends/web_backend/jquery-ui-1.12.1/external/jquery/jquery.js -> build/lib.macosx-10.9-universal2-cpython-311/matplotlib/backends/web_backend/jquery-ui-1.12.1/external/jquery\n",
      "  \u001b[31m   \u001b[0m copying lib/matplotlib/mpl-data/fonts/ttf/DejaVuSerif.ttf -> build/lib.macosx-10.9-universal2-cpython-311/matplotlib/mpl-data/fonts/ttf\n",
      "  \u001b[31m   \u001b[0m copying lib/matplotlib/mpl-data/sample_data/logo2.png -> build/lib.macosx-10.9-universal2-cpython-311/matplotlib/mpl-data/sample_data\n",
      "  \u001b[31m   \u001b[0m copying lib/matplotlib/mpl-data/fonts/ttf/STIXNonUniBol.ttf -> build/lib.macosx-10.9-universal2-cpython-311/matplotlib/mpl-data/fonts/ttf\n",
      "  \u001b[31m   \u001b[0m copying lib/matplotlib/backends/web_backend/jquery-ui-1.12.1/images/ui-icons_555555_256x240.png -> build/lib.macosx-10.9-universal2-cpython-311/matplotlib/backends/web_backend/jquery-ui-1.12.1/images\n",
      "  \u001b[31m   \u001b[0m copying lib/matplotlib/mpl-data/fonts/pdfcorefonts/Helvetica-BoldOblique.afm -> build/lib.macosx-10.9-universal2-cpython-311/matplotlib/mpl-data/fonts/pdfcorefonts\n",
      "  \u001b[31m   \u001b[0m copying lib/matplotlib/mpl-data/sample_data/s1045.ima.gz -> build/lib.macosx-10.9-universal2-cpython-311/matplotlib/mpl-data/sample_data\n",
      "  \u001b[31m   \u001b[0m copying lib/matplotlib/mpl-data/fonts/ttf/STIXSizFiveSymReg.ttf -> build/lib.macosx-10.9-universal2-cpython-311/matplotlib/mpl-data/fonts/ttf\n",
      "  \u001b[31m   \u001b[0m copying lib/matplotlib/mpl-data/fonts/ttf/DejaVuSansMono-Bold.ttf -> build/lib.macosx-10.9-universal2-cpython-311/matplotlib/mpl-data/fonts/ttf\n",
      "  \u001b[31m   \u001b[0m copying lib/matplotlib/mpl-data/sample_data/ada.png -> build/lib.macosx-10.9-universal2-cpython-311/matplotlib/mpl-data/sample_data\n",
      "  \u001b[31m   \u001b[0m copying lib/matplotlib/mpl-data/images/matplotlib.png -> build/lib.macosx-10.9-universal2-cpython-311/matplotlib/mpl-data/images\n",
      "  \u001b[31m   \u001b[0m copying lib/matplotlib/mpl-data/images/home_large.png -> build/lib.macosx-10.9-universal2-cpython-311/matplotlib/mpl-data/images\n",
      "  \u001b[31m   \u001b[0m copying lib/matplotlib/mpl-data/images/matplotlib.pdf -> build/lib.macosx-10.9-universal2-cpython-311/matplotlib/mpl-data/images\n",
      "  \u001b[31m   \u001b[0m copying lib/matplotlib/mpl-data/images/zoom_to_rect.png -> build/lib.macosx-10.9-universal2-cpython-311/matplotlib/mpl-data/images\n",
      "  \u001b[31m   \u001b[0m copying lib/matplotlib/mpl-data/fonts/afm/putr8a.afm -> build/lib.macosx-10.9-universal2-cpython-311/matplotlib/mpl-data/fonts/afm\n",
      "  \u001b[31m   \u001b[0m copying lib/matplotlib/mpl-data/fonts/afm/ptmri8a.afm -> build/lib.macosx-10.9-universal2-cpython-311/matplotlib/mpl-data/fonts/afm\n",
      "  \u001b[31m   \u001b[0m copying lib/matplotlib/mpl-data/sample_data/aapl.npz -> build/lib.macosx-10.9-universal2-cpython-311/matplotlib/mpl-data/sample_data\n",
      "  \u001b[31m   \u001b[0m copying lib/matplotlib/mpl-data/fonts/pdfcorefonts/readme.txt -> build/lib.macosx-10.9-universal2-cpython-311/matplotlib/mpl-data/fonts/pdfcorefonts\n",
      "  \u001b[31m   \u001b[0m copying lib/matplotlib/mpl-data/images/zoom_to_rect_large.gif -> build/lib.macosx-10.9-universal2-cpython-311/matplotlib/mpl-data/images\n",
      "  \u001b[31m   \u001b[0m copying lib/matplotlib/mpl-data/fonts/afm/cmr10.afm -> build/lib.macosx-10.9-universal2-cpython-311/matplotlib/mpl-data/fonts/afm\n",
      "  \u001b[31m   \u001b[0m copying lib/matplotlib/mpl-data/images/move.gif -> build/lib.macosx-10.9-universal2-cpython-311/matplotlib/mpl-data/images\n",
      "  \u001b[31m   \u001b[0m copying lib/matplotlib/backends/web_backend/jquery-ui-1.12.1/jquery-ui.min.css -> build/lib.macosx-10.9-universal2-cpython-311/matplotlib/backends/web_backend/jquery-ui-1.12.1\n",
      "  \u001b[31m   \u001b[0m copying lib/matplotlib/mpl-data/sample_data/data_x_x2_x3.csv -> build/lib.macosx-10.9-universal2-cpython-311/matplotlib/mpl-data/sample_data\n",
      "  \u001b[31m   \u001b[0m copying lib/matplotlib/mpl-data/fonts/ttf/STIXGeneralItalic.ttf -> build/lib.macosx-10.9-universal2-cpython-311/matplotlib/mpl-data/fonts/ttf\n",
      "  \u001b[31m   \u001b[0m copying lib/matplotlib/mpl-data/matplotlibrc -> build/lib.macosx-10.9-universal2-cpython-311/matplotlib/mpl-data\n",
      "  \u001b[31m   \u001b[0m copying lib/matplotlib/mpl-data/fonts/afm/cmex10.afm -> build/lib.macosx-10.9-universal2-cpython-311/matplotlib/mpl-data/fonts/afm\n",
      "  \u001b[31m   \u001b[0m copying lib/matplotlib/mpl-data/fonts/pdfcorefonts/Courier-Oblique.afm -> build/lib.macosx-10.9-universal2-cpython-311/matplotlib/mpl-data/fonts/pdfcorefonts\n",
      "  \u001b[31m   \u001b[0m copying lib/matplotlib/mpl-data/images/matplotlib_large.png -> build/lib.macosx-10.9-universal2-cpython-311/matplotlib/mpl-data/images\n",
      "  \u001b[31m   \u001b[0m copying lib/matplotlib/mpl-data/stylelib/seaborn-whitegrid.mplstyle -> build/lib.macosx-10.9-universal2-cpython-311/matplotlib/mpl-data/stylelib\n",
      "  \u001b[31m   \u001b[0m copying lib/matplotlib/mpl-data/images/home.svg -> build/lib.macosx-10.9-universal2-cpython-311/matplotlib/mpl-data/images\n",
      "  \u001b[31m   \u001b[0m copying lib/matplotlib/mpl-data/fonts/ttf/DejaVuSansMono.ttf -> build/lib.macosx-10.9-universal2-cpython-311/matplotlib/mpl-data/fonts/ttf\n",
      "  \u001b[31m   \u001b[0m copying lib/matplotlib/mpl-data/fonts/afm/putri8a.afm -> build/lib.macosx-10.9-universal2-cpython-311/matplotlib/mpl-data/fonts/afm\n",
      "  \u001b[31m   \u001b[0m copying lib/matplotlib/mpl-data/fonts/ttf/LICENSE_DEJAVU -> build/lib.macosx-10.9-universal2-cpython-311/matplotlib/mpl-data/fonts/ttf\n",
      "  \u001b[31m   \u001b[0m copying lib/matplotlib/mpl-data/images/qt4_editor_options.svg -> build/lib.macosx-10.9-universal2-cpython-311/matplotlib/mpl-data/images\n",
      "  \u001b[31m   \u001b[0m copying lib/matplotlib/mpl-data/fonts/pdfcorefonts/Courier.afm -> build/lib.macosx-10.9-universal2-cpython-311/matplotlib/mpl-data/fonts/pdfcorefonts\n",
      "  \u001b[31m   \u001b[0m copying lib/matplotlib/mpl-data/fonts/afm/pzcmi8a.afm -> build/lib.macosx-10.9-universal2-cpython-311/matplotlib/mpl-data/fonts/afm\n",
      "  \u001b[31m   \u001b[0m copying lib/matplotlib/mpl-data/fonts/afm/pplbi8a.afm -> build/lib.macosx-10.9-universal2-cpython-311/matplotlib/mpl-data/fonts/afm\n",
      "  \u001b[31m   \u001b[0m copying lib/matplotlib/mpl-data/fonts/ttf/DejaVuSans-Bold.ttf -> build/lib.macosx-10.9-universal2-cpython-311/matplotlib/mpl-data/fonts/ttf\n",
      "  \u001b[31m   \u001b[0m copying lib/matplotlib/mpl-data/fonts/afm/pcrbo8a.afm -> build/lib.macosx-10.9-universal2-cpython-311/matplotlib/mpl-data/fonts/afm\n",
      "  \u001b[31m   \u001b[0m copying lib/matplotlib/mpl-data/fonts/ttf/cmsy10.ttf -> build/lib.macosx-10.9-universal2-cpython-311/matplotlib/mpl-data/fonts/ttf\n",
      "  \u001b[31m   \u001b[0m copying lib/matplotlib/mpl-data/images/move.svg -> build/lib.macosx-10.9-universal2-cpython-311/matplotlib/mpl-data/images\n",
      "  \u001b[31m   \u001b[0m copying lib/matplotlib/mpl-data/images/back_large.png -> build/lib.macosx-10.9-universal2-cpython-311/matplotlib/mpl-data/images\n",
      "  \u001b[31m   \u001b[0m copying lib/matplotlib/mpl-data/images/subplots_large.gif -> build/lib.macosx-10.9-universal2-cpython-311/matplotlib/mpl-data/images\n",
      "  \u001b[31m   \u001b[0m creating build/lib.macosx-10.9-universal2-cpython-311/matplotlib/backends/web_backend/css\n",
      "  \u001b[31m   \u001b[0m copying lib/matplotlib/backends/web_backend/css/page.css -> build/lib.macosx-10.9-universal2-cpython-311/matplotlib/backends/web_backend/css\n",
      "  \u001b[31m   \u001b[0m copying lib/matplotlib/mpl-data/fonts/afm/phvr8an.afm -> build/lib.macosx-10.9-universal2-cpython-311/matplotlib/mpl-data/fonts/afm\n",
      "  \u001b[31m   \u001b[0m copying lib/matplotlib/mpl-data/stylelib/seaborn-ticks.mplstyle -> build/lib.macosx-10.9-universal2-cpython-311/matplotlib/mpl-data/stylelib\n",
      "  \u001b[31m   \u001b[0m copying lib/matplotlib/mpl-data/fonts/pdfcorefonts/Helvetica.afm -> build/lib.macosx-10.9-universal2-cpython-311/matplotlib/mpl-data/fonts/pdfcorefonts\n",
      "  \u001b[31m   \u001b[0m copying lib/matplotlib/mpl-data/stylelib/seaborn-notebook.mplstyle -> build/lib.macosx-10.9-universal2-cpython-311/matplotlib/mpl-data/stylelib\n",
      "  \u001b[31m   \u001b[0m copying lib/matplotlib/mpl-data/fonts/pdfcorefonts/Symbol.afm -> build/lib.macosx-10.9-universal2-cpython-311/matplotlib/mpl-data/fonts/pdfcorefonts\n",
      "  \u001b[31m   \u001b[0m copying lib/matplotlib/mpl-data/fonts/ttf/STIXSizThreeSymReg.ttf -> build/lib.macosx-10.9-universal2-cpython-311/matplotlib/mpl-data/fonts/ttf\n",
      "  \u001b[31m   \u001b[0m copying lib/matplotlib/mpl-data/fonts/ttf/STIXSizOneSymReg.ttf -> build/lib.macosx-10.9-universal2-cpython-311/matplotlib/mpl-data/fonts/ttf\n",
      "  \u001b[31m   \u001b[0m copying lib/matplotlib/mpl-data/fonts/ttf/STIXSizOneSymBol.ttf -> build/lib.macosx-10.9-universal2-cpython-311/matplotlib/mpl-data/fonts/ttf\n",
      "  \u001b[31m   \u001b[0m copying lib/matplotlib/mpl-data/fonts/ttf/STIXNonUniBolIta.ttf -> build/lib.macosx-10.9-universal2-cpython-311/matplotlib/mpl-data/fonts/ttf\n",
      "  \u001b[31m   \u001b[0m copying lib/matplotlib/mpl-data/fonts/ttf/STIXNonUniIta.ttf -> build/lib.macosx-10.9-universal2-cpython-311/matplotlib/mpl-data/fonts/ttf\n",
      "  \u001b[31m   \u001b[0m copying lib/matplotlib/mpl-data/images/zoom_to_rect.pdf -> build/lib.macosx-10.9-universal2-cpython-311/matplotlib/mpl-data/images\n",
      "  \u001b[31m   \u001b[0m copying lib/matplotlib/mpl-data/images/filesave.png -> build/lib.macosx-10.9-universal2-cpython-311/matplotlib/mpl-data/images\n",
      "  \u001b[31m   \u001b[0m copying lib/matplotlib/backends/web_backend/jquery-ui-1.12.1/jquery-ui.css -> build/lib.macosx-10.9-universal2-cpython-311/matplotlib/backends/web_backend/jquery-ui-1.12.1\n",
      "  \u001b[31m   \u001b[0m copying lib/matplotlib/backends/web_backend/jquery-ui-1.12.1/jquery-ui.structure.min.css -> build/lib.macosx-10.9-universal2-cpython-311/matplotlib/backends/web_backend/jquery-ui-1.12.1\n",
      "  \u001b[31m   \u001b[0m copying lib/matplotlib/backends/web_backend/jquery-ui-1.12.1/images/ui-icons_777777_256x240.png -> build/lib.macosx-10.9-universal2-cpython-311/matplotlib/backends/web_backend/jquery-ui-1.12.1/images\n",
      "  \u001b[31m   \u001b[0m copying lib/matplotlib/mpl-data/fonts/afm/pzdr.afm -> build/lib.macosx-10.9-universal2-cpython-311/matplotlib/mpl-data/fonts/afm\n",
      "  \u001b[31m   \u001b[0m copying lib/matplotlib/mpl-data/fonts/pdfcorefonts/Helvetica-Bold.afm -> build/lib.macosx-10.9-universal2-cpython-311/matplotlib/mpl-data/fonts/pdfcorefonts\n",
      "  \u001b[31m   \u001b[0m copying lib/matplotlib/mpl-data/sample_data/membrane.dat -> build/lib.macosx-10.9-universal2-cpython-311/matplotlib/mpl-data/sample_data\n",
      "  \u001b[31m   \u001b[0m copying lib/matplotlib/mpl-data/fonts/ttf/DejaVuSans.ttf -> build/lib.macosx-10.9-universal2-cpython-311/matplotlib/mpl-data/fonts/ttf\n",
      "  \u001b[31m   \u001b[0m copying lib/matplotlib/mpl-data/images/help.png -> build/lib.macosx-10.9-universal2-cpython-311/matplotlib/mpl-data/images\n",
      "  \u001b[31m   \u001b[0m copying lib/matplotlib/mpl-data/fonts/ttf/DejaVuSerif-BoldItalic.ttf -> build/lib.macosx-10.9-universal2-cpython-311/matplotlib/mpl-data/fonts/ttf\n",
      "  \u001b[31m   \u001b[0m copying lib/matplotlib/mpl-data/fonts/afm/phvlo8a.afm -> build/lib.macosx-10.9-universal2-cpython-311/matplotlib/mpl-data/fonts/afm\n",
      "  \u001b[31m   \u001b[0m copying lib/matplotlib/mpl-data/fonts/ttf/cmr10.ttf -> build/lib.macosx-10.9-universal2-cpython-311/matplotlib/mpl-data/fonts/ttf\n",
      "  \u001b[31m   \u001b[0m copying lib/matplotlib/mpl-data/images/back_large.gif -> build/lib.macosx-10.9-universal2-cpython-311/matplotlib/mpl-data/images\n",
      "  \u001b[31m   \u001b[0m copying lib/matplotlib/mpl-data/stylelib/seaborn-darkgrid.mplstyle -> build/lib.macosx-10.9-universal2-cpython-311/matplotlib/mpl-data/stylelib\n",
      "  \u001b[31m   \u001b[0m copying lib/matplotlib/backends/web_backend/all_figures.html -> build/lib.macosx-10.9-universal2-cpython-311/matplotlib/backends/web_backend\n",
      "  \u001b[31m   \u001b[0m copying lib/matplotlib/mpl-data/fonts/pdfcorefonts/Times-BoldItalic.afm -> build/lib.macosx-10.9-universal2-cpython-311/matplotlib/mpl-data/fonts/pdfcorefonts\n",
      "  \u001b[31m   \u001b[0m copying lib/matplotlib/mpl-data/fonts/ttf/DejaVuSerif-Bold.ttf -> build/lib.macosx-10.9-universal2-cpython-311/matplotlib/mpl-data/fonts/ttf\n",
      "  \u001b[31m   \u001b[0m copying lib/matplotlib/mpl-data/fonts/ttf/STIXNonUni.ttf -> build/lib.macosx-10.9-universal2-cpython-311/matplotlib/mpl-data/fonts/ttf\n",
      "  \u001b[31m   \u001b[0m copying lib/matplotlib/mpl-data/images/qt4_editor_options.png -> build/lib.macosx-10.9-universal2-cpython-311/matplotlib/mpl-data/images\n",
      "  \u001b[31m   \u001b[0m copying lib/matplotlib/mpl-data/stylelib/seaborn-pastel.mplstyle -> build/lib.macosx-10.9-universal2-cpython-311/matplotlib/mpl-data/stylelib\n",
      "  \u001b[31m   \u001b[0m copying lib/matplotlib/mpl-data/stylelib/tableau-colorblind10.mplstyle -> build/lib.macosx-10.9-universal2-cpython-311/matplotlib/mpl-data/stylelib\n",
      "  \u001b[31m   \u001b[0m copying lib/matplotlib/mpl-data/fonts/afm/pcrr8a.afm -> build/lib.macosx-10.9-universal2-cpython-311/matplotlib/mpl-data/fonts/afm\n",
      "  \u001b[31m   \u001b[0m copying lib/matplotlib/mpl-data/fonts/ttf/DejaVuSerifDisplay.ttf -> build/lib.macosx-10.9-universal2-cpython-311/matplotlib/mpl-data/fonts/ttf\n",
      "  \u001b[31m   \u001b[0m copying lib/matplotlib/mpl-data/images/forward.gif -> build/lib.macosx-10.9-universal2-cpython-311/matplotlib/mpl-data/images\n",
      "  \u001b[31m   \u001b[0m copying lib/matplotlib/mpl-data/stylelib/seaborn-poster.mplstyle -> build/lib.macosx-10.9-universal2-cpython-311/matplotlib/mpl-data/stylelib\n",
      "  \u001b[31m   \u001b[0m copying lib/matplotlib/backends/web_backend/css/fbm.css -> build/lib.macosx-10.9-universal2-cpython-311/matplotlib/backends/web_backend/css\n",
      "  \u001b[31m   \u001b[0m copying lib/matplotlib/mpl-data/stylelib/ggplot.mplstyle -> build/lib.macosx-10.9-universal2-cpython-311/matplotlib/mpl-data/stylelib\n",
      "  \u001b[31m   \u001b[0m creating build/lib.macosx-10.9-universal2-cpython-311/matplotlib/backends/web_backend/js\n",
      "  \u001b[31m   \u001b[0m copying lib/matplotlib/backends/web_backend/js/nbagg_mpl.js -> build/lib.macosx-10.9-universal2-cpython-311/matplotlib/backends/web_backend/js\n",
      "  \u001b[31m   \u001b[0m copying lib/matplotlib/mpl-data/sample_data/grace_hopper.jpg -> build/lib.macosx-10.9-universal2-cpython-311/matplotlib/mpl-data/sample_data\n",
      "  \u001b[31m   \u001b[0m copying lib/matplotlib/mpl-data/fonts/afm/pagko8a.afm -> build/lib.macosx-10.9-universal2-cpython-311/matplotlib/mpl-data/fonts/afm\n",
      "  \u001b[31m   \u001b[0m copying lib/matplotlib/mpl-data/fonts/ttf/DejaVuSansMono-Oblique.ttf -> build/lib.macosx-10.9-universal2-cpython-311/matplotlib/mpl-data/fonts/ttf\n",
      "  \u001b[31m   \u001b[0m copying lib/matplotlib/mpl-data/images/move.pdf -> build/lib.macosx-10.9-universal2-cpython-311/matplotlib/mpl-data/images\n",
      "  \u001b[31m   \u001b[0m copying lib/matplotlib/mpl-data/fonts/ttf/DejaVuSansDisplay.ttf -> build/lib.macosx-10.9-universal2-cpython-311/matplotlib/mpl-data/fonts/ttf\n",
      "  \u001b[31m   \u001b[0m copying lib/matplotlib/mpl-data/images/home.pdf -> build/lib.macosx-10.9-universal2-cpython-311/matplotlib/mpl-data/images\n",
      "  \u001b[31m   \u001b[0m copying lib/matplotlib/mpl-data/stylelib/seaborn-talk.mplstyle -> build/lib.macosx-10.9-universal2-cpython-311/matplotlib/mpl-data/stylelib\n",
      "  \u001b[31m   \u001b[0m copying lib/matplotlib/backends/web_backend/jquery-ui-1.12.1/jquery-ui.min.js -> build/lib.macosx-10.9-universal2-cpython-311/matplotlib/backends/web_backend/jquery-ui-1.12.1\n",
      "  \u001b[31m   \u001b[0m copying lib/matplotlib/mpl-data/images/subplots.png -> build/lib.macosx-10.9-universal2-cpython-311/matplotlib/mpl-data/images\n",
      "  \u001b[31m   \u001b[0m copying lib/matplotlib/mpl-data/fonts/afm/cmmi10.afm -> build/lib.macosx-10.9-universal2-cpython-311/matplotlib/mpl-data/fonts/afm\n",
      "  \u001b[31m   \u001b[0m copying lib/matplotlib/mpl-data/images/qt4_editor_options.pdf -> build/lib.macosx-10.9-universal2-cpython-311/matplotlib/mpl-data/images\n",
      "  \u001b[31m   \u001b[0m copying lib/matplotlib/backends/web_backend/jquery-ui-1.12.1/package.json -> build/lib.macosx-10.9-universal2-cpython-311/matplotlib/backends/web_backend/jquery-ui-1.12.1\n",
      "  \u001b[31m   \u001b[0m copying lib/matplotlib/backends/web_backend/jquery-ui-1.12.1/AUTHORS.txt -> build/lib.macosx-10.9-universal2-cpython-311/matplotlib/backends/web_backend/jquery-ui-1.12.1\n",
      "  \u001b[31m   \u001b[0m copying lib/matplotlib/mpl-data/images/subplots_large.png -> build/lib.macosx-10.9-universal2-cpython-311/matplotlib/mpl-data/images\n",
      "  \u001b[31m   \u001b[0m copying lib/matplotlib/mpl-data/stylelib/seaborn-dark-palette.mplstyle -> build/lib.macosx-10.9-universal2-cpython-311/matplotlib/mpl-data/stylelib\n",
      "  \u001b[31m   \u001b[0m copying lib/matplotlib/backends/web_backend/jquery-ui-1.12.1/jquery-ui.theme.min.css -> build/lib.macosx-10.9-universal2-cpython-311/matplotlib/backends/web_backend/jquery-ui-1.12.1\n",
      "  \u001b[31m   \u001b[0m copying lib/matplotlib/mpl-data/images/subplots.svg -> build/lib.macosx-10.9-universal2-cpython-311/matplotlib/mpl-data/images\n",
      "  \u001b[31m   \u001b[0m copying lib/matplotlib/mpl-data/fonts/afm/pcrro8a.afm -> build/lib.macosx-10.9-universal2-cpython-311/matplotlib/mpl-data/fonts/afm\n",
      "  \u001b[31m   \u001b[0m copying lib/matplotlib/mpl-data/sample_data/goog.npz -> build/lib.macosx-10.9-universal2-cpython-311/matplotlib/mpl-data/sample_data\n",
      "  \u001b[31m   \u001b[0m copying lib/matplotlib/mpl-data/stylelib/seaborn-deep.mplstyle -> build/lib.macosx-10.9-universal2-cpython-311/matplotlib/mpl-data/stylelib\n",
      "  \u001b[31m   \u001b[0m copying lib/matplotlib/mpl-data/fonts/afm/phvb8a.afm -> build/lib.macosx-10.9-universal2-cpython-311/matplotlib/mpl-data/fonts/afm\n",
      "  \u001b[31m   \u001b[0m copying lib/matplotlib/mpl-data/sample_data/embedding_in_wx3.xrc -> build/lib.macosx-10.9-universal2-cpython-311/matplotlib/mpl-data/sample_data\n",
      "  \u001b[31m   \u001b[0m copying lib/matplotlib/backends/web_backend/jquery-ui-1.12.1/images/ui-icons_cc0000_256x240.png -> build/lib.macosx-10.9-universal2-cpython-311/matplotlib/backends/web_backend/jquery-ui-1.12.1/images\n",
      "  \u001b[31m   \u001b[0m copying lib/matplotlib/mpl-data/fonts/afm/pbkl8a.afm -> build/lib.macosx-10.9-universal2-cpython-311/matplotlib/mpl-data/fonts/afm\n",
      "  \u001b[31m   \u001b[0m copying lib/matplotlib/mpl-data/fonts/afm/phvl8a.afm -> build/lib.macosx-10.9-universal2-cpython-311/matplotlib/mpl-data/fonts/afm\n",
      "  \u001b[31m   \u001b[0m copying lib/matplotlib/mpl-data/fonts/afm/pplb8a.afm -> build/lib.macosx-10.9-universal2-cpython-311/matplotlib/mpl-data/fonts/afm\n",
      "  \u001b[31m   \u001b[0m copying lib/matplotlib/mpl-data/sample_data/None_vs_nearest-pdf.png -> build/lib.macosx-10.9-universal2-cpython-311/matplotlib/mpl-data/sample_data\n",
      "  \u001b[31m   \u001b[0m copying lib/matplotlib/mpl-data/fonts/ttf/DejaVuSans-BoldOblique.ttf -> build/lib.macosx-10.9-universal2-cpython-311/matplotlib/mpl-data/fonts/ttf\n",
      "  \u001b[31m   \u001b[0m copying lib/matplotlib/mpl-data/images/filesave.gif -> build/lib.macosx-10.9-universal2-cpython-311/matplotlib/mpl-data/images\n",
      "  \u001b[31m   \u001b[0m copying lib/matplotlib/mpl-data/fonts/pdfcorefonts/ZapfDingbats.afm -> build/lib.macosx-10.9-universal2-cpython-311/matplotlib/mpl-data/fonts/pdfcorefonts\n",
      "  \u001b[31m   \u001b[0m copying lib/matplotlib/backends/web_backend/css/boilerplate.css -> build/lib.macosx-10.9-universal2-cpython-311/matplotlib/backends/web_backend/css\n",
      "  \u001b[31m   \u001b[0m copying lib/matplotlib/mpl-data/images/forward_large.png -> build/lib.macosx-10.9-universal2-cpython-311/matplotlib/mpl-data/images\n",
      "  \u001b[31m   \u001b[0m copying lib/matplotlib/mpl-data/images/filesave_large.gif -> build/lib.macosx-10.9-universal2-cpython-311/matplotlib/mpl-data/images\n",
      "  \u001b[31m   \u001b[0m copying lib/matplotlib/mpl-data/fonts/ttf/cmss10.ttf -> build/lib.macosx-10.9-universal2-cpython-311/matplotlib/mpl-data/fonts/ttf\n",
      "  \u001b[31m   \u001b[0m copying lib/matplotlib/mpl-data/fonts/afm/pcrb8a.afm -> build/lib.macosx-10.9-universal2-cpython-311/matplotlib/mpl-data/fonts/afm\n",
      "  \u001b[31m   \u001b[0m copying lib/matplotlib/mpl-data/sample_data/demodata.csv -> build/lib.macosx-10.9-universal2-cpython-311/matplotlib/mpl-data/sample_data\n",
      "  \u001b[31m   \u001b[0m copying lib/matplotlib/mpl-data/images/filesave_large.png -> build/lib.macosx-10.9-universal2-cpython-311/matplotlib/mpl-data/images\n",
      "  \u001b[31m   \u001b[0m copying lib/matplotlib/mpl-data/fonts/ttf/cmtt10.ttf -> build/lib.macosx-10.9-universal2-cpython-311/matplotlib/mpl-data/fonts/ttf\n",
      "  \u001b[31m   \u001b[0m copying lib/matplotlib/mpl-data/images/help.svg -> build/lib.macosx-10.9-universal2-cpython-311/matplotlib/mpl-data/images\n",
      "  \u001b[31m   \u001b[0m copying lib/matplotlib/mpl-data/sample_data/README.txt -> build/lib.macosx-10.9-universal2-cpython-311/matplotlib/mpl-data/sample_data\n",
      "  \u001b[31m   \u001b[0m copying lib/matplotlib/mpl-data/sample_data/grace_hopper.png -> build/lib.macosx-10.9-universal2-cpython-311/matplotlib/mpl-data/sample_data\n",
      "  \u001b[31m   \u001b[0m copying lib/matplotlib/mpl-data/fonts/afm/cmtt10.afm -> build/lib.macosx-10.9-universal2-cpython-311/matplotlib/mpl-data/fonts/afm\n",
      "  \u001b[31m   \u001b[0m copying lib/matplotlib/mpl-data/images/hand.gif -> build/lib.macosx-10.9-universal2-cpython-311/matplotlib/mpl-data/images\n",
      "  \u001b[31m   \u001b[0m copying lib/matplotlib/mpl-data/sample_data/percent_bachelors_degrees_women_usa.csv -> build/lib.macosx-10.9-universal2-cpython-311/matplotlib/mpl-data/sample_data\n",
      "  \u001b[31m   \u001b[0m copying lib/matplotlib/mpl-data/images/matplotlib_128.ppm -> build/lib.macosx-10.9-universal2-cpython-311/matplotlib/mpl-data/images\n",
      "  \u001b[31m   \u001b[0m copying lib/matplotlib/backends/web_backend/ipython_inline_figure.html -> build/lib.macosx-10.9-universal2-cpython-311/matplotlib/backends/web_backend\n",
      "  \u001b[31m   \u001b[0m copying lib/matplotlib/mpl-data/fonts/afm/pbkdi8a.afm -> build/lib.macosx-10.9-universal2-cpython-311/matplotlib/mpl-data/fonts/afm\n",
      "  \u001b[31m   \u001b[0m copying lib/matplotlib/mpl-data/stylelib/Solarize_Light2.mplstyle -> build/lib.macosx-10.9-universal2-cpython-311/matplotlib/mpl-data/stylelib\n",
      "  \u001b[31m   \u001b[0m copying lib/matplotlib/mpl-data/images/back.png -> build/lib.macosx-10.9-universal2-cpython-311/matplotlib/mpl-data/images\n",
      "  \u001b[31m   \u001b[0m copying lib/matplotlib/mpl-data/fonts/afm/psyr.afm -> build/lib.macosx-10.9-universal2-cpython-311/matplotlib/mpl-data/fonts/afm\n",
      "  \u001b[31m   \u001b[0m copying lib/matplotlib/mpl-data/fonts/afm/phvr8a.afm -> build/lib.macosx-10.9-universal2-cpython-311/matplotlib/mpl-data/fonts/afm\n",
      "  \u001b[31m   \u001b[0m copying lib/matplotlib/mpl-data/fonts/ttf/DejaVuSansMono-BoldOblique.ttf -> build/lib.macosx-10.9-universal2-cpython-311/matplotlib/mpl-data/fonts/ttf\n",
      "  \u001b[31m   \u001b[0m copying lib/matplotlib/mpl-data/images/forward.png -> build/lib.macosx-10.9-universal2-cpython-311/matplotlib/mpl-data/images\n",
      "  \u001b[31m   \u001b[0m copying lib/matplotlib/mpl-data/stylelib/seaborn-bright.mplstyle -> build/lib.macosx-10.9-universal2-cpython-311/matplotlib/mpl-data/stylelib\n",
      "  \u001b[31m   \u001b[0m copying lib/matplotlib/mpl-data/stylelib/dark_background.mplstyle -> build/lib.macosx-10.9-universal2-cpython-311/matplotlib/mpl-data/stylelib\n",
      "  \u001b[31m   \u001b[0m copying lib/matplotlib/mpl-data/images/move_large.png -> build/lib.macosx-10.9-universal2-cpython-311/matplotlib/mpl-data/images\n",
      "  \u001b[31m   \u001b[0m copying lib/matplotlib/mpl-data/images/move_large.gif -> build/lib.macosx-10.9-universal2-cpython-311/matplotlib/mpl-data/images\n",
      "  \u001b[31m   \u001b[0m copying lib/matplotlib/mpl-data/sample_data/topobathy.npz -> build/lib.macosx-10.9-universal2-cpython-311/matplotlib/mpl-data/sample_data\n",
      "  \u001b[31m   \u001b[0m copying lib/matplotlib/backends/web_backend/js/mpl.js -> build/lib.macosx-10.9-universal2-cpython-311/matplotlib/backends/web_backend/js\n",
      "  \u001b[31m   \u001b[0m copying lib/matplotlib/mpl-data/images/home.gif -> build/lib.macosx-10.9-universal2-cpython-311/matplotlib/mpl-data/images\n",
      "  \u001b[31m   \u001b[0m copying lib/matplotlib/mpl-data/stylelib/grayscale.mplstyle -> build/lib.macosx-10.9-universal2-cpython-311/matplotlib/mpl-data/stylelib\n",
      "  \u001b[31m   \u001b[0m copying lib/matplotlib/mpl-data/sample_data/ct.raw.gz -> build/lib.macosx-10.9-universal2-cpython-311/matplotlib/mpl-data/sample_data\n",
      "  \u001b[31m   \u001b[0m copying lib/matplotlib/mpl-data/fonts/afm/cmsy10.afm -> build/lib.macosx-10.9-universal2-cpython-311/matplotlib/mpl-data/fonts/afm\n",
      "  \u001b[31m   \u001b[0m copying lib/matplotlib/mpl-data/images/back.svg -> build/lib.macosx-10.9-universal2-cpython-311/matplotlib/mpl-data/images\n",
      "  \u001b[31m   \u001b[0m copying lib/matplotlib/mpl-data/images/filesave.svg -> build/lib.macosx-10.9-universal2-cpython-311/matplotlib/mpl-data/images\n",
      "  \u001b[31m   \u001b[0m copying lib/matplotlib/mpl-data/fonts/afm/ptmbi8a.afm -> build/lib.macosx-10.9-universal2-cpython-311/matplotlib/mpl-data/fonts/afm\n",
      "  \u001b[31m   \u001b[0m copying lib/matplotlib/mpl-data/images/forward.svg -> build/lib.macosx-10.9-universal2-cpython-311/matplotlib/mpl-data/images\n",
      "  \u001b[31m   \u001b[0m copying lib/matplotlib/mpl-data/fonts/afm/phvb8an.afm -> build/lib.macosx-10.9-universal2-cpython-311/matplotlib/mpl-data/fonts/afm\n",
      "  \u001b[31m   \u001b[0m copying lib/matplotlib/mpl-data/fonts/pdfcorefonts/Times-Roman.afm -> build/lib.macosx-10.9-universal2-cpython-311/matplotlib/mpl-data/fonts/pdfcorefonts\n",
      "  \u001b[31m   \u001b[0m copying lib/matplotlib/mpl-data/fonts/afm/ptmb8a.afm -> build/lib.macosx-10.9-universal2-cpython-311/matplotlib/mpl-data/fonts/afm\n",
      "  \u001b[31m   \u001b[0m copying lib/matplotlib/mpl-data/images/move.png -> build/lib.macosx-10.9-universal2-cpython-311/matplotlib/mpl-data/images\n",
      "  \u001b[31m   \u001b[0m copying lib/matplotlib/mpl-data/fonts/ttf/STIXGeneralBolIta.ttf -> build/lib.macosx-10.9-universal2-cpython-311/matplotlib/mpl-data/fonts/ttf\n",
      "  \u001b[31m   \u001b[0m copying lib/matplotlib/mpl-data/stylelib/bmh.mplstyle -> build/lib.macosx-10.9-universal2-cpython-311/matplotlib/mpl-data/stylelib\n",
      "  \u001b[31m   \u001b[0m copying lib/matplotlib/mpl-data/fonts/afm/phvbo8a.afm -> build/lib.macosx-10.9-universal2-cpython-311/matplotlib/mpl-data/fonts/afm\n",
      "  \u001b[31m   \u001b[0m copying lib/matplotlib/mpl-data/fonts/ttf/STIXSizFourSymReg.ttf -> build/lib.macosx-10.9-universal2-cpython-311/matplotlib/mpl-data/fonts/ttf\n",
      "  \u001b[31m   \u001b[0m copying lib/matplotlib/mpl-data/images/subplots.pdf -> build/lib.macosx-10.9-universal2-cpython-311/matplotlib/mpl-data/images\n",
      "  \u001b[31m   \u001b[0m copying lib/matplotlib/mpl-data/images/help.ppm -> build/lib.macosx-10.9-universal2-cpython-311/matplotlib/mpl-data/images\n",
      "  \u001b[31m   \u001b[0m copying lib/matplotlib/mpl-data/fonts/afm/putbi8a.afm -> build/lib.macosx-10.9-universal2-cpython-311/matplotlib/mpl-data/fonts/afm\n",
      "  \u001b[31m   \u001b[0m copying lib/matplotlib/mpl-data/fonts/ttf/STIXSizFourSymBol.ttf -> build/lib.macosx-10.9-universal2-cpython-311/matplotlib/mpl-data/fonts/ttf\n",
      "  \u001b[31m   \u001b[0m copying lib/matplotlib/mpl-data/stylelib/fast.mplstyle -> build/lib.macosx-10.9-universal2-cpython-311/matplotlib/mpl-data/stylelib\n",
      "  \u001b[31m   \u001b[0m copying lib/matplotlib/mpl-data/fonts/afm/pplr8a.afm -> build/lib.macosx-10.9-universal2-cpython-311/matplotlib/mpl-data/fonts/afm\n",
      "  \u001b[31m   \u001b[0m copying lib/matplotlib/mpl-data/stylelib/seaborn-paper.mplstyle -> build/lib.macosx-10.9-universal2-cpython-311/matplotlib/mpl-data/stylelib\n",
      "  \u001b[31m   \u001b[0m copying lib/matplotlib/backends/web_backend/jquery-ui-1.12.1/jquery-ui.js -> build/lib.macosx-10.9-universal2-cpython-311/matplotlib/backends/web_backend/jquery-ui-1.12.1\n",
      "  \u001b[31m   \u001b[0m copying lib/matplotlib/mpl-data/images/help_large.ppm -> build/lib.macosx-10.9-universal2-cpython-311/matplotlib/mpl-data/images\n",
      "  \u001b[31m   \u001b[0m copying lib/matplotlib/mpl-data/fonts/afm/ptmr8a.afm -> build/lib.macosx-10.9-universal2-cpython-311/matplotlib/mpl-data/fonts/afm\n",
      "  \u001b[31m   \u001b[0m copying lib/matplotlib/mpl-data/images/hand.svg -> build/lib.macosx-10.9-universal2-cpython-311/matplotlib/mpl-data/images\n",
      "  \u001b[31m   \u001b[0m copying lib/matplotlib/backends/web_backend/jquery-ui-1.12.1/jquery-ui.structure.css -> build/lib.macosx-10.9-universal2-cpython-311/matplotlib/backends/web_backend/jquery-ui-1.12.1\n",
      "  \u001b[31m   \u001b[0m copying lib/matplotlib/backends/web_backend/jquery-ui-1.12.1/images/ui-icons_777620_256x240.png -> build/lib.macosx-10.9-universal2-cpython-311/matplotlib/backends/web_backend/jquery-ui-1.12.1/images\n",
      "  \u001b[31m   \u001b[0m copying lib/matplotlib/mpl-data/images/zoom_to_rect.svg -> build/lib.macosx-10.9-universal2-cpython-311/matplotlib/mpl-data/images\n",
      "  \u001b[31m   \u001b[0m copying lib/matplotlib/mpl-data/fonts/afm/phvbo8an.afm -> build/lib.macosx-10.9-universal2-cpython-311/matplotlib/mpl-data/fonts/afm\n",
      "  \u001b[31m   \u001b[0m copying lib/matplotlib/mpl-data/fonts/ttf/DejaVuSerif-Italic.ttf -> build/lib.macosx-10.9-universal2-cpython-311/matplotlib/mpl-data/fonts/ttf\n",
      "  \u001b[31m   \u001b[0m copying lib/matplotlib/mpl-data/fonts/afm/pncb8a.afm -> build/lib.macosx-10.9-universal2-cpython-311/matplotlib/mpl-data/fonts/afm\n",
      "  \u001b[31m   \u001b[0m copying lib/matplotlib/mpl-data/fonts/afm/pagd8a.afm -> build/lib.macosx-10.9-universal2-cpython-311/matplotlib/mpl-data/fonts/afm\n",
      "  \u001b[31m   \u001b[0m copying lib/matplotlib/backends/web_backend/js/mpl_tornado.js -> build/lib.macosx-10.9-universal2-cpython-311/matplotlib/backends/web_backend/js\n",
      "  \u001b[31m   \u001b[0m copying lib/matplotlib/mpl-data/fonts/afm/phvro8a.afm -> build/lib.macosx-10.9-universal2-cpython-311/matplotlib/mpl-data/fonts/afm\n",
      "  \u001b[31m   \u001b[0m copying lib/matplotlib/mpl-data/stylelib/_classic_test_patch.mplstyle -> build/lib.macosx-10.9-universal2-cpython-311/matplotlib/mpl-data/stylelib\n",
      "  \u001b[31m   \u001b[0m copying lib/matplotlib/mpl-data/fonts/afm/pncr8a.afm -> build/lib.macosx-10.9-universal2-cpython-311/matplotlib/mpl-data/fonts/afm\n",
      "  \u001b[31m   \u001b[0m copying lib/matplotlib/mpl-data/fonts/ttf/cmmi10.ttf -> build/lib.macosx-10.9-universal2-cpython-311/matplotlib/mpl-data/fonts/ttf\n",
      "  \u001b[31m   \u001b[0m copying lib/matplotlib/mpl-data/fonts/pdfcorefonts/Helvetica-Oblique.afm -> build/lib.macosx-10.9-universal2-cpython-311/matplotlib/mpl-data/fonts/pdfcorefonts\n",
      "  \u001b[31m   \u001b[0m copying lib/matplotlib/mpl-data/images/home.png -> build/lib.macosx-10.9-universal2-cpython-311/matplotlib/mpl-data/images\n",
      "  \u001b[31m   \u001b[0m copying lib/matplotlib/mpl-data/fonts/ttf/STIXSizTwoSymBol.ttf -> build/lib.macosx-10.9-universal2-cpython-311/matplotlib/mpl-data/fonts/ttf\n",
      "  \u001b[31m   \u001b[0m copying lib/matplotlib/backends/web_backend/nbagg_uat.ipynb -> build/lib.macosx-10.9-universal2-cpython-311/matplotlib/backends/web_backend\n",
      "  \u001b[31m   \u001b[0m copying lib/matplotlib/backends/web_backend/jquery-ui-1.12.1/LICENSE.txt -> build/lib.macosx-10.9-universal2-cpython-311/matplotlib/backends/web_backend/jquery-ui-1.12.1\n",
      "  \u001b[31m   \u001b[0m copying lib/matplotlib/mpl-data/stylelib/seaborn-dark.mplstyle -> build/lib.macosx-10.9-universal2-cpython-311/matplotlib/mpl-data/stylelib\n",
      "  \u001b[31m   \u001b[0m copying lib/matplotlib/mpl-data/images/zoom_to_rect_large.png -> build/lib.macosx-10.9-universal2-cpython-311/matplotlib/mpl-data/images\n",
      "  \u001b[31m   \u001b[0m copying lib/matplotlib/mpl-data/sample_data/eeg.dat -> build/lib.macosx-10.9-universal2-cpython-311/matplotlib/mpl-data/sample_data\n",
      "  \u001b[31m   \u001b[0m copying lib/matplotlib/backends/web_backend/jquery-ui-1.12.1/images/ui-icons_ffffff_256x240.png -> build/lib.macosx-10.9-universal2-cpython-311/matplotlib/backends/web_backend/jquery-ui-1.12.1/images\n",
      "  \u001b[31m   \u001b[0m UPDATING build/lib.macosx-10.9-universal2-cpython-311/matplotlib/_version.py\n",
      "  \u001b[31m   \u001b[0m set build/lib.macosx-10.9-universal2-cpython-311/matplotlib/_version.py to '3.2.0'\n",
      "  \u001b[31m   \u001b[0m running build_ext\n",
      "  \u001b[31m   \u001b[0m IMPORTANT WARNING:\n",
      "  \u001b[31m   \u001b[0m     pkg-config is not installed.\n",
      "  \u001b[31m   \u001b[0m     Matplotlib may not be able to find some of its dependencies.\n",
      "  \u001b[31m   \u001b[0m building 'matplotlib.ft2font' extension\n",
      "  \u001b[31m   \u001b[0m creating build/temp.macosx-10.9-universal2-cpython-311\n",
      "  \u001b[31m   \u001b[0m creating build/temp.macosx-10.9-universal2-cpython-311/src\n",
      "  \u001b[31m   \u001b[0m clang -Wsign-compare -Wunreachable-code -fno-common -dynamic -DNDEBUG -g -fwrapv -O3 -Wall -arch arm64 -arch x86_64 -g -DFREETYPE_BUILD_TYPE=system -DPY_ARRAY_UNIQUE_SYMBOL=MPL_matplotlib_ft2font_ARRAY_API -DNPY_NO_DEPRECATED_API=NPY_1_7_API_VERSION -D__STDC_FORMAT_MACROS=1 -Iextern/agg24-svn/include -I/Library/Frameworks/Python.framework/Versions/3.11/lib/python3.11/site-packages/numpy/core/include -I/Library/Frameworks/Python.framework/Versions/3.11/include/python3.11 -c src/checkdep_freetype2.c -o build/temp.macosx-10.9-universal2-cpython-311/src/checkdep_freetype2.o\n",
      "  \u001b[31m   \u001b[0m xcrun: error: invalid active developer path (/Library/Developer/CommandLineTools), missing xcrun at: /Library/Developer/CommandLineTools/usr/bin/xcrun\n",
      "  \u001b[31m   \u001b[0m error: command '/usr/bin/clang' failed with exit code 1\n",
      "  \u001b[31m   \u001b[0m \u001b[31m[end of output]\u001b[0m\n",
      "  \n",
      "  \u001b[1;35mnote\u001b[0m: This error originates from a subprocess, and is likely not a problem with pip.\n",
      "\u001b[31m  ERROR: Failed building wheel for matplotlib\u001b[0m\u001b[31m\n",
      "\u001b[0m\u001b[?25h  Running setup.py clean for matplotlib\n",
      "  \u001b[1;31merror\u001b[0m: \u001b[1msubprocess-exited-with-error\u001b[0m\n",
      "  \n",
      "  \u001b[31m×\u001b[0m \u001b[32mpython setup.py clean\u001b[0m did not run successfully.\n",
      "  \u001b[31m│\u001b[0m exit code: \u001b[1;36m1\u001b[0m\n",
      "  \u001b[31m╰─>\u001b[0m \u001b[31m[7 lines of output]\u001b[0m\n",
      "  \u001b[31m   \u001b[0m Traceback (most recent call last):\n",
      "  \u001b[31m   \u001b[0m   File \"<string>\", line 2, in <module>\n",
      "  \u001b[31m   \u001b[0m   File \"<pip-setuptools-caller>\", line 34, in <module>\n",
      "  \u001b[31m   \u001b[0m   File \"/private/var/folders/_2/j9shm3rx2vs9vgyl6vlbxqbr0000gn/T/pip-install-dakurc8v/matplotlib_f7d74a54f7ba443599d81770aedd1506/setup.py\", line 247, in <module>\n",
      "  \u001b[31m   \u001b[0m     long_description=long_description,\n",
      "  \u001b[31m   \u001b[0m                      ^^^^^^^^^^^^^^^^\n",
      "  \u001b[31m   \u001b[0m NameError: name 'long_description' is not defined\n",
      "  \u001b[31m   \u001b[0m \u001b[31m[end of output]\u001b[0m\n",
      "  \n",
      "  \u001b[1;35mnote\u001b[0m: This error originates from a subprocess, and is likely not a problem with pip.\n",
      "\u001b[31m  ERROR: Failed cleaning build dir for matplotlib\u001b[0m\u001b[31m\n",
      "\u001b[0mFailed to build matplotlib\n",
      "\u001b[31mERROR: Could not build wheels for matplotlib, which is required to install pyproject.toml-based projects\u001b[0m\u001b[31m\n",
      "\u001b[0m\n",
      "\u001b[1m[\u001b[0m\u001b[34;49mnotice\u001b[0m\u001b[1;39;49m]\u001b[0m\u001b[39;49m A new release of pip is available: \u001b[0m\u001b[31;49m23.2.1\u001b[0m\u001b[39;49m -> \u001b[0m\u001b[32;49m24.0\u001b[0m\n",
      "\u001b[1m[\u001b[0m\u001b[34;49mnotice\u001b[0m\u001b[1;39;49m]\u001b[0m\u001b[39;49m To update, run: \u001b[0m\u001b[32;49mpip install --upgrade pip\u001b[0m\n"
     ]
    }
   ],
   "source": [
    "!pip uninstall protobuf matplotlib -y\n",
    "!pip install protobuf matplotlib==3.2"
   ]
  },
  {
   "cell_type": "code",
   "execution_count": 14,
   "metadata": {},
   "outputs": [
    {
     "ename": "ModuleNotFoundError",
     "evalue": "No module named 'object_detection'",
     "output_type": "error",
     "traceback": [
      "\u001b[0;31m---------------------------------------------------------------------------\u001b[0m",
      "\u001b[0;31mModuleNotFoundError\u001b[0m                       Traceback (most recent call last)",
      "\u001b[1;32m/Users/rajaguru/Desktop/Final year project/2. Training and Detection.ipynb Cell 16\u001b[0m line \u001b[0;36m1\n\u001b[0;32m----> <a href='vscode-notebook-cell:/Users/rajaguru/Desktop/Final%20year%20project/2.%20Training%20and%20Detection.ipynb#X21sZmlsZQ%3D%3D?line=0'>1</a>\u001b[0m \u001b[39mimport\u001b[39;00m \u001b[39mobject_detection\u001b[39;00m\n",
      "\u001b[0;31mModuleNotFoundError\u001b[0m: No module named 'object_detection'"
     ]
    }
   ],
   "source": [
    "import object_detection"
   ]
  },
  {
   "cell_type": "code",
   "execution_count": null,
   "metadata": {
    "scrolled": true
   },
   "outputs": [],
   "source": [
    "!pip list"
   ]
  },
  {
   "cell_type": "code",
   "execution_count": null,
   "metadata": {
    "colab": {
     "base_uri": "https://localhost:8080/"
    },
    "id": "csofht2npfDE",
    "outputId": "ff5471b2-bed2-43f2-959c-327a706527b6"
   },
   "outputs": [],
   "source": [
    "if os.name =='posix':\n",
    "    !wget {PRETRAINED_MODEL_URL}\n",
    "    !mv {PRETRAINED_MODEL_NAME+'.tar.gz'} {paths['PRETRAINED_MODEL_PATH']}\n",
    "    !cd {paths['PRETRAINED_MODEL_PATH']} && tar -zxvf {PRETRAINED_MODEL_NAME+'.tar.gz'}\n",
    "if os.name == 'nt':\n",
    "    wget.download(PRETRAINED_MODEL_URL)\n",
    "    !move {PRETRAINED_MODEL_NAME+'.tar.gz'} {paths['PRETRAINED_MODEL_PATH']}\n",
    "    !cd {paths['PRETRAINED_MODEL_PATH']} && tar -zxvf {PRETRAINED_MODEL_NAME+'.tar.gz'}"
   ]
  },
  {
   "cell_type": "markdown",
   "metadata": {
    "id": "M5KJTnkfpfDC"
   },
   "source": [
    "# 2. Create Label Map"
   ]
  },
  {
   "cell_type": "code",
   "execution_count": 3,
   "metadata": {
    "id": "p1BVDWo7pfDC"
   },
   "outputs": [
    {
     "ename": "NameError",
     "evalue": "name 'files' is not defined",
     "output_type": "error",
     "traceback": [
      "\u001b[0;31m---------------------------------------------------------------------------\u001b[0m",
      "\u001b[0;31mNameError\u001b[0m                                 Traceback (most recent call last)",
      "\u001b[1;32m/Users/rajaguru/Desktop/Final year project/2. Training and Detection.ipynb Cell 20\u001b[0m line \u001b[0;36m3\n\u001b[1;32m      <a href='vscode-notebook-cell:/Users/rajaguru/Desktop/Final%20year%20project/2.%20Training%20and%20Detection.ipynb#X25sZmlsZQ%3D%3D?line=0'>1</a>\u001b[0m labels \u001b[39m=\u001b[39m [{\u001b[39m'\u001b[39m\u001b[39mname\u001b[39m\u001b[39m'\u001b[39m:\u001b[39m'\u001b[39m\u001b[39mGoodbye\u001b[39m\u001b[39m'\u001b[39m, \u001b[39m'\u001b[39m\u001b[39mid\u001b[39m\u001b[39m'\u001b[39m:\u001b[39m1\u001b[39m}, {\u001b[39m'\u001b[39m\u001b[39mname\u001b[39m\u001b[39m'\u001b[39m:\u001b[39m'\u001b[39m\u001b[39mPlay\u001b[39m\u001b[39m'\u001b[39m, \u001b[39m'\u001b[39m\u001b[39mid\u001b[39m\u001b[39m'\u001b[39m:\u001b[39m2\u001b[39m}, {\u001b[39m'\u001b[39m\u001b[39mname\u001b[39m\u001b[39m'\u001b[39m:\u001b[39m'\u001b[39m\u001b[39mStand\u001b[39m\u001b[39m'\u001b[39m, \u001b[39m'\u001b[39m\u001b[39mid\u001b[39m\u001b[39m'\u001b[39m:\u001b[39m3\u001b[39m}, {\u001b[39m'\u001b[39m\u001b[39mname\u001b[39m\u001b[39m'\u001b[39m:\u001b[39m'\u001b[39m\u001b[39mILoveYou\u001b[39m\u001b[39m'\u001b[39m, \u001b[39m'\u001b[39m\u001b[39mid\u001b[39m\u001b[39m'\u001b[39m:\u001b[39m4\u001b[39m}]\n\u001b[0;32m----> <a href='vscode-notebook-cell:/Users/rajaguru/Desktop/Final%20year%20project/2.%20Training%20and%20Detection.ipynb#X25sZmlsZQ%3D%3D?line=2'>3</a>\u001b[0m \u001b[39mwith\u001b[39;00m \u001b[39mopen\u001b[39m(files[\u001b[39m'\u001b[39m\u001b[39mLABELMAP\u001b[39m\u001b[39m'\u001b[39m], \u001b[39m'\u001b[39m\u001b[39mw\u001b[39m\u001b[39m'\u001b[39m) \u001b[39mas\u001b[39;00m f:\n\u001b[1;32m      <a href='vscode-notebook-cell:/Users/rajaguru/Desktop/Final%20year%20project/2.%20Training%20and%20Detection.ipynb#X25sZmlsZQ%3D%3D?line=3'>4</a>\u001b[0m     \u001b[39mfor\u001b[39;00m label \u001b[39min\u001b[39;00m labels:\n\u001b[1;32m      <a href='vscode-notebook-cell:/Users/rajaguru/Desktop/Final%20year%20project/2.%20Training%20and%20Detection.ipynb#X25sZmlsZQ%3D%3D?line=4'>5</a>\u001b[0m         f\u001b[39m.\u001b[39mwrite(\u001b[39m'\u001b[39m\u001b[39mitem \u001b[39m\u001b[39m{\u001b[39m\u001b[39m \u001b[39m\u001b[39m\\n\u001b[39;00m\u001b[39m'\u001b[39m)\n",
      "\u001b[0;31mNameError\u001b[0m: name 'files' is not defined"
     ]
    }
   ],
   "source": [
    "labels = [{'name':'Goodbye', 'id':1}, {'name':'Play', 'id':2}, {'name':'Stand', 'id':3}, {'name':'ILoveYou', 'id':4}]\n",
    "\n",
    "with open(files['LABELMAP'], 'w') as f:\n",
    "    for label in labels:\n",
    "        f.write('item { \\n')\n",
    "        f.write('\\tname:\\'{}\\'\\n'.format(label['name']))\n",
    "        f.write('\\tid:{}\\n'.format(label['id']))\n",
    "        f.write('}\\n')"
   ]
  },
  {
   "cell_type": "markdown",
   "metadata": {
    "id": "C88zyVELpfDC"
   },
   "source": [
    "# 3. Create TF records"
   ]
  },
  {
   "cell_type": "code",
   "execution_count": null,
   "metadata": {
    "colab": {
     "base_uri": "https://localhost:8080/"
    },
    "id": "KWpb_BVUpfDD",
    "outputId": "56ce2a3f-3933-4ee6-8a9d-d5ec65f7d73c"
   },
   "outputs": [],
   "source": [
    "if not os.path.exists(files['TF_RECORD_SCRIPT']):\n",
    "    !git clone https://github.com/nicknochnack/GenerateTFRecord {paths['SCRIPTS_PATH']}"
   ]
  },
  {
   "cell_type": "code",
   "execution_count": null,
   "metadata": {
    "colab": {
     "base_uri": "https://localhost:8080/"
    },
    "id": "UPFToGZqpfDD",
    "outputId": "0ebb456f-aadc-4a1f-96e6-fbfec1923e1c"
   },
   "outputs": [],
   "source": [
    "!python {files['TF_RECORD_SCRIPT']} -x {os.path.join(paths['IMAGE_PATH'], 'train')} -l {files['LABELMAP']} -o {os.path.join(paths['ANNOTATION_PATH'], 'train.record')} \n",
    "!python {files['TF_RECORD_SCRIPT']} -x {os.path.join(paths['IMAGE_PATH'], 'test')} -l {files['LABELMAP']} -o {os.path.join(paths['ANNOTATION_PATH'], 'test.record')} "
   ]
  },
  {
   "cell_type": "code",
   "execution_count": null,
   "metadata": {},
   "outputs": [],
   "source": [
    "!pip install pytz"
   ]
  },
  {
   "cell_type": "markdown",
   "metadata": {
    "id": "qT4QU7pLpfDE"
   },
   "source": [
    "# 4. Copy Model Config to Training Folder"
   ]
  },
  {
   "cell_type": "code",
   "execution_count": null,
   "metadata": {
    "id": "cOjuTFbwpfDF"
   },
   "outputs": [],
   "source": [
    "if os.name =='posix':\n",
    "    !cp {os.path.join(paths['PRETRAINED_MODEL_PATH'], PRETRAINED_MODEL_NAME, 'pipeline.config')} {os.path.join(paths['CHECKPOINT_PATH'])}\n",
    "if os.name == 'nt':\n",
    "    !copy {os.path.join(paths['PRETRAINED_MODEL_PATH'], PRETRAINED_MODEL_NAME, 'pipeline.config')} {os.path.join(paths['CHECKPOINT_PATH'])}"
   ]
  },
  {
   "cell_type": "markdown",
   "metadata": {
    "id": "Ga8gpNslpfDF"
   },
   "source": [
    "# 5. Update Config For Transfer Learning"
   ]
  },
  {
   "cell_type": "code",
   "execution_count": null,
   "metadata": {
    "id": "Z9hRrO_ppfDF"
   },
   "outputs": [],
   "source": [
    "import tensorflow as tf\n",
    "from object_detection.utils import config_util\n",
    "from object_detection.protos import pipeline_pb2\n",
    "from google.protobuf import text_format"
   ]
  },
  {
   "cell_type": "code",
   "execution_count": null,
   "metadata": {
    "id": "c2A0mn4ipfDF"
   },
   "outputs": [],
   "source": [
    "config = config_util.get_configs_from_pipeline_file(files['PIPELINE_CONFIG'])"
   ]
  },
  {
   "cell_type": "code",
   "execution_count": null,
   "metadata": {
    "colab": {
     "base_uri": "https://localhost:8080/"
    },
    "id": "uQA13-afpfDF",
    "outputId": "907496a4-a39d-4b13-8c2c-e5978ecb1f10"
   },
   "outputs": [],
   "source": [
    "config"
   ]
  },
  {
   "cell_type": "code",
   "execution_count": null,
   "metadata": {
    "id": "9vK5lotDpfDF"
   },
   "outputs": [],
   "source": [
    "pipeline_config = pipeline_pb2.TrainEvalPipelineConfig()\n",
    "with tf.io.gfile.GFile(files['PIPELINE_CONFIG'], \"r\") as f:                                                                                                                                                                                                                     \n",
    "    proto_str = f.read()                                                                                                                                                                                                                                          \n",
    "    text_format.Merge(proto_str, pipeline_config)  "
   ]
  },
  {
   "cell_type": "code",
   "execution_count": null,
   "metadata": {
    "id": "rP43Ph0JpfDG"
   },
   "outputs": [],
   "source": [
    "pipeline_config.model.ssd.num_classes = len(labels)\n",
    "pipeline_config.train_config.batch_size = 4\n",
    "pipeline_config.train_config.fine_tune_checkpoint = os.path.join(paths['PRETRAINED_MODEL_PATH'], PRETRAINED_MODEL_NAME, 'checkpoint', 'ckpt-0')\n",
    "pipeline_config.train_config.fine_tune_checkpoint_type = \"detection\"\n",
    "pipeline_config.train_input_reader.label_map_path= files['LABELMAP']\n",
    "pipeline_config.train_input_reader.tf_record_input_reader.input_path[:] = [os.path.join(paths['ANNOTATION_PATH'], 'train.record')]\n",
    "pipeline_config.eval_input_reader[0].label_map_path = files['LABELMAP']\n",
    "pipeline_config.eval_input_reader[0].tf_record_input_reader.input_path[:] = [os.path.join(paths['ANNOTATION_PATH'], 'test.record')]"
   ]
  },
  {
   "cell_type": "code",
   "execution_count": null,
   "metadata": {
    "id": "oJvfgwWqpfDG"
   },
   "outputs": [],
   "source": [
    "config_text = text_format.MessageToString(pipeline_config)                                                                                                                                                                                                        \n",
    "with tf.io.gfile.GFile(files['PIPELINE_CONFIG'], \"wb\") as f:                                                                                                                                                                                                                     \n",
    "    f.write(config_text)   "
   ]
  },
  {
   "cell_type": "markdown",
   "metadata": {
    "id": "Zr3ON7xMpfDG"
   },
   "source": [
    "# 6. Train the model"
   ]
  },
  {
   "cell_type": "code",
   "execution_count": null,
   "metadata": {
    "id": "B-Y2UQmQpfDG"
   },
   "outputs": [],
   "source": [
    "TRAINING_SCRIPT = os.path.join(paths['APIMODEL_PATH'], 'research', 'object_detection', 'model_main_tf2.py')"
   ]
  },
  {
   "cell_type": "code",
   "execution_count": null,
   "metadata": {
    "id": "jMP2XDfQpfDH"
   },
   "outputs": [],
   "source": [
    "command = \"python {} --model_dir={} --pipeline_config_path={} --num_train_steps=2000\".format(TRAINING_SCRIPT, paths['CHECKPOINT_PATH'],files['PIPELINE_CONFIG'])"
   ]
  },
  {
   "cell_type": "code",
   "execution_count": null,
   "metadata": {
    "colab": {
     "base_uri": "https://localhost:8080/"
    },
    "id": "A4OXXi-ApfDH",
    "outputId": "117a0e83-012b-466e-b7a6-ccaa349ac5ab"
   },
   "outputs": [],
   "source": [
    "print(command)"
   ]
  },
  {
   "cell_type": "code",
   "execution_count": null,
   "metadata": {
    "colab": {
     "base_uri": "https://localhost:8080/"
    },
    "id": "i3ZsJR-qpfDH",
    "outputId": "cabec5e1-45e6-4f2f-d9cf-297d9c1d0225"
   },
   "outputs": [],
   "source": [
    "!{command}"
   ]
  },
  {
   "cell_type": "markdown",
   "metadata": {
    "id": "4_YRZu7npfDH"
   },
   "source": [
    "# 7. Evaluate the Model"
   ]
  },
  {
   "cell_type": "code",
   "execution_count": null,
   "metadata": {
    "id": "80L7-fdPpfDH"
   },
   "outputs": [],
   "source": [
    "command = \"python {} --model_dir={} --pipeline_config_path={} --checkpoint_dir={}\".format(TRAINING_SCRIPT, paths['CHECKPOINT_PATH'],files['PIPELINE_CONFIG'], paths['CHECKPOINT_PATH'])"
   ]
  },
  {
   "cell_type": "code",
   "execution_count": null,
   "metadata": {
    "colab": {
     "base_uri": "https://localhost:8080/"
    },
    "id": "lYsgEPx9pfDH",
    "outputId": "8632d48b-91d2-45d9-bcb8-c1b172bf6eed"
   },
   "outputs": [],
   "source": [
    "print(command)"
   ]
  },
  {
   "cell_type": "code",
   "execution_count": null,
   "metadata": {
    "id": "lqTV2jGBpfDH"
   },
   "outputs": [],
   "source": [
    "!{command}"
   ]
  },
  {
   "cell_type": "markdown",
   "metadata": {
    "id": "orvRk02UpfDI"
   },
   "source": [
    "# 8. Load Train Model From Checkpoint"
   ]
  },
  {
   "cell_type": "code",
   "execution_count": null,
   "metadata": {
    "id": "8TYk4_oIpfDI"
   },
   "outputs": [],
   "source": [
    "import os\n",
    "import tensorflow as tf\n",
    "from object_detection.utils import label_map_util\n",
    "from object_detection.utils import visualization_utils as viz_utils\n",
    "from object_detection.builders import model_builder\n",
    "from object_detection.utils import config_util"
   ]
  },
  {
   "cell_type": "code",
   "execution_count": null,
   "metadata": {
    "id": "tDnQg-cYpfDI"
   },
   "outputs": [],
   "source": [
    "# Load pipeline config and build a detection model\n",
    "configs = config_util.get_configs_from_pipeline_file(files['PIPELINE_CONFIG'])\n",
    "detection_model = model_builder.build(model_config=configs['model'], is_training=False)\n",
    "\n",
    "# Restore checkpoint\n",
    "ckpt = tf.compat.v2.train.Checkpoint(model=detection_model)\n",
    "ckpt.restore(os.path.join(paths['CHECKPOINT_PATH'], 'ckpt-5')).expect_partial()\n",
    "\n",
    "@tf.function\n",
    "def detect_fn(image):\n",
    "    image, shapes = detection_model.preprocess(image)\n",
    "    prediction_dict = detection_model.predict(image, shapes)\n",
    "    detections = detection_model.postprocess(prediction_dict, shapes)\n",
    "    return detections"
   ]
  },
  {
   "cell_type": "markdown",
   "metadata": {
    "id": "0EmsmbBZpfDI"
   },
   "source": [
    "# 9. Detect from an Image"
   ]
  },
  {
   "cell_type": "code",
   "execution_count": null,
   "metadata": {
    "id": "Y_MKiuZ4pfDI"
   },
   "outputs": [],
   "source": [
    "import cv2 \n",
    "import numpy as np\n",
    "from matplotlib import pyplot as plt\n",
    "%matplotlib inline"
   ]
  },
  {
   "cell_type": "code",
   "execution_count": null,
   "metadata": {
    "id": "cBDbIhNapfDI"
   },
   "outputs": [],
   "source": [
    "category_index = label_map_util.create_category_index_from_labelmap(files['LABELMAP'])"
   ]
  },
  {
   "cell_type": "code",
   "execution_count": null,
   "metadata": {
    "id": "Lx3crOhOzITB"
   },
   "outputs": [],
   "source": [
    "IMAGE_PATH = os.path.join(paths['IMAGE_PATH'], 'test', 'Stand.8513e5c8-7b2f-11ee-ac1b-e427f7d899a7.jpg')"
   ]
  },
  {
   "cell_type": "code",
   "execution_count": null,
   "metadata": {
    "colab": {
     "base_uri": "https://localhost:8080/",
     "height": 269
    },
    "id": "Tpzn1SMry1yK",
    "outputId": "c392a2c5-10fe-4fc4-9998-a1d4c7db2bd3"
   },
   "outputs": [],
   "source": [
    "img = cv2.imread(IMAGE_PATH)\n",
    "image_np = np.array(img)\n",
    "\n",
    "input_tensor = tf.convert_to_tensor(np.expand_dims(image_np, 0), dtype=tf.float32)\n",
    "detections = detect_fn(input_tensor)\n",
    "\n",
    "num_detections = int(detections.pop('num_detections'))\n",
    "detections = {key: value[0, :num_detections].numpy()\n",
    "              for key, value in detections.items()}\n",
    "detections['num_detections'] = num_detections\n",
    "\n",
    "# detection_classes should be ints.\n",
    "detections['detection_classes'] = detections['detection_classes'].astype(np.int64)\n",
    "\n",
    "label_id_offset = 1\n",
    "image_np_with_detections = image_np.copy()\n",
    "\n",
    "viz_utils.visualize_boxes_and_labels_on_image_array(\n",
    "            image_np_with_detections,\n",
    "            detections['detection_boxes'],\n",
    "            detections['detection_classes']+label_id_offset,\n",
    "            detections['detection_scores'],\n",
    "            category_index,\n",
    "            use_normalized_coordinates=True,\n",
    "            max_boxes_to_draw=5,\n",
    "            min_score_thresh=.8,\n",
    "            agnostic_mode=False)\n",
    "\n",
    "plt.imshow(cv2.cvtColor(image_np_with_detections, cv2.COLOR_BGR2RGB))\n",
    "plt.show()"
   ]
  },
  {
   "cell_type": "markdown",
   "metadata": {
    "id": "IsNAaYAo0WVL"
   },
   "source": [
    "# 10. Real Time Detections from your Webcam"
   ]
  },
  {
   "cell_type": "code",
   "execution_count": null,
   "metadata": {
    "id": "o_grs6OGpfDJ"
   },
   "outputs": [],
   "source": [
    "cap = cv2.VideoCapture(0)\n",
    "width = int(cap.get(cv2.CAP_PROP_FRAME_WIDTH))\n",
    "height = int(cap.get(cv2.CAP_PROP_FRAME_HEIGHT))\n",
    "\n",
    "while cap.isOpened(): \n",
    "    ret, frame = cap.read()\n",
    "    image_np = np.array(frame)\n",
    "    \n",
    "    input_tensor = tf.convert_to_tensor(np.expand_dims(image_np, 0), dtype=tf.float32)\n",
    "    detections = detect_fn(input_tensor)\n",
    "    \n",
    "    num_detections = int(detections.pop('num_detections'))\n",
    "    detections = {key: value[0, :num_detections].numpy()\n",
    "                  for key, value in detections.items()}\n",
    "    detections['num_detections'] = num_detections\n",
    "\n",
    "    # detection_classes should be ints.\n",
    "    detections['detection_classes'] = detections['detection_classes'].astype(np.int64)\n",
    "\n",
    "    label_id_offset = 1\n",
    "    image_np_with_detections = image_np.copy()\n",
    "\n",
    "    viz_utils.visualize_boxes_and_labels_on_image_array(\n",
    "                image_np_with_detections,\n",
    "                detections['detection_boxes'],\n",
    "                detections['detection_classes']+label_id_offset,\n",
    "                detections['detection_scores'],\n",
    "                category_index,\n",
    "                use_normalized_coordinates=True,\n",
    "                max_boxes_to_draw=5,\n",
    "                min_score_thresh=.8,\n",
    "                agnostic_mode=False)\n",
    "\n",
    "    cv2.imshow('object detection',  cv2.resize(image_np_with_detections, (800, 600)))\n",
    "    \n",
    "    if cv2.waitKey(10) & 0xFF == ord('q'):\n",
    "        cap.release()\n",
    "        cv2.destroyAllWindows()\n",
    "        break"
   ]
  },
  {
   "cell_type": "markdown",
   "metadata": {
    "id": "rzlM4jt0pfDJ"
   },
   "source": [
    "# 10. Freezing the Graph"
   ]
  },
  {
   "cell_type": "code",
   "execution_count": null,
   "metadata": {
    "id": "n4olHB2npfDJ"
   },
   "outputs": [],
   "source": [
    "FREEZE_SCRIPT = os.path.join(paths['APIMODEL_PATH'], 'research', 'object_detection', 'exporter_main_v2.py ')"
   ]
  },
  {
   "cell_type": "code",
   "execution_count": null,
   "metadata": {
    "id": "0AjO93QDpfDJ"
   },
   "outputs": [],
   "source": [
    "command = \"python {} --input_type=image_tensor --pipeline_config_path={} --trained_checkpoint_dir={} --output_directory={}\".format(FREEZE_SCRIPT ,files['PIPELINE_CONFIG'], paths['CHECKPOINT_PATH'], paths['OUTPUT_PATH'])"
   ]
  },
  {
   "cell_type": "code",
   "execution_count": null,
   "metadata": {
    "colab": {
     "base_uri": "https://localhost:8080/"
    },
    "id": "F6Lsp3tCpfDJ",
    "outputId": "c3828529-bf06-4df5-d7f3-145890ec3edd"
   },
   "outputs": [],
   "source": [
    "print(command)"
   ]
  },
  {
   "cell_type": "code",
   "execution_count": null,
   "metadata": {
    "colab": {
     "base_uri": "https://localhost:8080/"
    },
    "id": "1Sw1ULgHpfDJ",
    "outputId": "6fd441e1-9fc9-4889-d072-3395c21e40b6"
   },
   "outputs": [],
   "source": [
    "!{command}"
   ]
  },
  {
   "cell_type": "markdown",
   "metadata": {
    "id": "wTPmdqaXpfDK"
   },
   "source": [
    "# 11. Conversion to TFJS"
   ]
  },
  {
   "cell_type": "code",
   "execution_count": null,
   "metadata": {
    "id": "0oxbVynHpfDK"
   },
   "outputs": [],
   "source": [
    "command = \"tensorflowjs_converter --input_format=tf_saved_model --output_node_names='detection_boxes,detection_classes,detection_features,detection_multiclass_scores,detection_scores,num_detections,raw_detection_boxes,raw_detection_scores' --output_format=tfjs_graph_model --signature_name=serving_default {} {}\".format(os.path.join(paths['OUTPUT_PATH'], 'saved_model'), paths['TFJS_PATH'])"
   ]
  },
  {
   "cell_type": "code",
   "execution_count": null,
   "metadata": {
    "colab": {
     "base_uri": "https://localhost:8080/"
    },
    "id": "DB2AGNmJpfDK",
    "outputId": "fbc9f747-f511-47e8-df8f-5ea65cef0374"
   },
   "outputs": [],
   "source": [
    "print(command)"
   ]
  },
  {
   "cell_type": "code",
   "execution_count": null,
   "metadata": {
    "colab": {
     "base_uri": "https://localhost:8080/"
    },
    "id": "K7rfT4-hpfDK",
    "outputId": "532707fd-6feb-4bc6-84a3-325b5d16303c"
   },
   "outputs": [],
   "source": [
    "!{command}"
   ]
  },
  {
   "cell_type": "markdown",
   "metadata": {
    "id": "VtUw73FHpfDK"
   },
   "source": [
    "# 12. Conversion to TFLite"
   ]
  },
  {
   "cell_type": "code",
   "execution_count": null,
   "metadata": {
    "id": "XviMtewLpfDK"
   },
   "outputs": [],
   "source": [
    "TFLITE_SCRIPT = os.path.join(paths['APIMODEL_PATH'], 'research', 'object_detection', 'export_tflite_graph_tf2.py ')"
   ]
  },
  {
   "cell_type": "code",
   "execution_count": null,
   "metadata": {
    "id": "us86cjC4pfDL"
   },
   "outputs": [],
   "source": [
    "command = \"python {} --pipeline_config_path={} --trained_checkpoint_dir={} --output_directory={}\".format(TFLITE_SCRIPT ,files['PIPELINE_CONFIG'], paths['CHECKPOINT_PATH'], paths['TFLITE_PATH'])"
   ]
  },
  {
   "cell_type": "code",
   "execution_count": null,
   "metadata": {
    "colab": {
     "base_uri": "https://localhost:8080/"
    },
    "id": "n1r5YO3rpfDL",
    "outputId": "5fcdf7a4-eee2-4365-f1ca-1751968379ea"
   },
   "outputs": [],
   "source": [
    "print(command)"
   ]
  },
  {
   "cell_type": "code",
   "execution_count": null,
   "metadata": {
    "colab": {
     "base_uri": "https://localhost:8080/"
    },
    "id": "I-xWpHN8pfDL",
    "outputId": "7f6bacd8-d077-43b5-c131-5b081fba24a4"
   },
   "outputs": [],
   "source": [
    "!{command}"
   ]
  },
  {
   "cell_type": "code",
   "execution_count": null,
   "metadata": {
    "id": "iJfYMbN6pfDL"
   },
   "outputs": [],
   "source": [
    "FROZEN_TFLITE_PATH = os.path.join(paths['TFLITE_PATH'], 'saved_model')\n",
    "TFLITE_MODEL = os.path.join(paths['TFLITE_PATH'], 'saved_model', 'detect.tflite')"
   ]
  },
  {
   "cell_type": "code",
   "execution_count": null,
   "metadata": {},
   "outputs": [],
   "source": [
    "command = \"tflite_convert \\\n",
    "--saved_model_dir={} \\\n",
    "--output_file={} \\\n",
    "--input_shapes=1,300,300,3 \\\n",
    "--input_arrays=normalized_input_image_tensor \\\n",
    "--output_arrays='TFLite_Detection_PostProcess','TFLite_Detection_PostProcess:1','TFLite_Detection_PostProcess:2','TFLite_Detection_PostProcess:3' \\\n",
    "--inference_type=FLOAT \\\n",
    "--allow_custom_ops\".format(FROZEN_TFLITE_PATH, TFLITE_MODEL, )"
   ]
  },
  {
   "cell_type": "code",
   "execution_count": null,
   "metadata": {
    "colab": {
     "base_uri": "https://localhost:8080/"
    },
    "id": "E8GwUeoFpfDL",
    "outputId": "fac43ea4-cc85-471b-a362-e994b06fd583"
   },
   "outputs": [],
   "source": [
    "print(command)"
   ]
  },
  {
   "cell_type": "code",
   "execution_count": null,
   "metadata": {
    "colab": {
     "base_uri": "https://localhost:8080/"
    },
    "id": "Nbd7gqHMpfDL",
    "outputId": "7c8fe6d5-2415-4641-8548-39d425c202f7"
   },
   "outputs": [],
   "source": [
    "!{command}"
   ]
  },
  {
   "cell_type": "markdown",
   "metadata": {
    "id": "5NQqZRdA21Uc"
   },
   "source": [
    "# 13. Zip and Export Models "
   ]
  },
  {
   "cell_type": "code",
   "execution_count": null,
   "metadata": {
    "id": "tTVTGCQp2ZJJ"
   },
   "outputs": [],
   "source": [
    "!tar -czf models.tar.gz {paths['CHECKPOINT_PATH']}"
   ]
  },
  {
   "cell_type": "code",
   "execution_count": null,
   "metadata": {
    "colab": {
     "base_uri": "https://localhost:8080/"
    },
    "id": "whShhB0x3PYJ",
    "outputId": "b773201d-35c9-46a8-b893-4a76bd4d5d97"
   },
   "outputs": [],
   "source": [
    "from google.colab import drive\n",
    "drive.mount('/content/drive')"
   ]
  },
  {
   "cell_type": "code",
   "execution_count": null,
   "metadata": {},
   "outputs": [],
   "source": []
  },
  {
   "cell_type": "code",
   "execution_count": null,
   "metadata": {},
   "outputs": [],
   "source": []
  },
  {
   "cell_type": "code",
   "execution_count": null,
   "metadata": {},
   "outputs": [],
   "source": []
  },
  {
   "cell_type": "code",
   "execution_count": null,
   "metadata": {},
   "outputs": [],
   "source": []
  },
  {
   "cell_type": "code",
   "execution_count": null,
   "metadata": {},
   "outputs": [],
   "source": []
  },
  {
   "cell_type": "code",
   "execution_count": null,
   "metadata": {},
   "outputs": [],
   "source": []
  }
 ],
 "metadata": {
  "accelerator": "GPU",
  "colab": {
   "name": "3. Training and Detection.ipynb",
   "provenance": []
  },
  "kernelspec": {
   "display_name": "Python 3",
   "language": "python",
   "name": "python3"
  },
  "language_info": {
   "codemirror_mode": {
    "name": "ipython",
    "version": 3
   },
   "file_extension": ".py",
   "mimetype": "text/x-python",
   "name": "python",
   "nbconvert_exporter": "python",
   "pygments_lexer": "ipython3",
   "version": "3.11.1"
  }
 },
 "nbformat": 4,
 "nbformat_minor": 4
}
